{
 "cells": [
  {
   "cell_type": "markdown",
   "metadata": {},
   "source": [
    "# Running on a dataset"
   ]
  },
  {
   "cell_type": "markdown",
   "metadata": {},
   "source": [
    "We will use nipype for this."
   ]
  },
  {
   "cell_type": "markdown",
   "metadata": {},
   "source": [
    "## Imports"
   ]
  },
  {
   "cell_type": "code",
   "execution_count": 32,
   "metadata": {},
   "outputs": [],
   "source": [
    "import os\n",
    "import os.path as op\n",
    "import glob\n",
    "from pathlib import Path\n",
    "from ndmg.scripts import ndmg_dwi_pipeline\n",
    "from ndmg.utils import s3_utils"
   ]
  },
  {
   "cell_type": "markdown",
   "metadata": {},
   "source": [
    "## Grab input dataset"
   ]
  },
  {
   "cell_type": "code",
   "execution_count": 40,
   "metadata": {},
   "outputs": [],
   "source": [
    "# Download test data\n",
    "data_dir = op.expanduser(\"~\") + \"/.ndmg/HNU1t\"\n",
    "if not op.isdir(data_dir):\n",
    "    os.mkdir(data_dir)\n",
    "    s3_utils.s3_get_data('ndmg-data', 'HNU1t', data_dir, force=True)\n",
    "\n",
    "# Specify base directory and paths to input files (dwi, bvecs, bvals, and t1w required)\n",
    "input_files = []\n",
    "subs = [i.split('/')[-1] for i in glob.glob(data_dir + '/sub*')]\n",
    "for subject in subs:\n",
    "    t1w = data_dir + '/' +  subject + '/ses-1/anat/' + subject + '_ses-1_T1w.nii.gz'\n",
    "    bvals = data_dir + '/' + subject + '/ses-1/dwi/' + subject + '_ses-1_dwi.bval'\n",
    "    bvecs = data_dir + '/' + subject + '/ses-1/dwi/' + subject + '_ses-1_dwi.bvec'\n",
    "    dwi = data_dir + '/' + subject + '/ses-1/dwi/' + subject + '_ses-1_dwi.nii.gz'\n",
    "    input_files.append((subject, t1w, bvals, bvecs, dwi))\n",
    "    \n",
    "    "
   ]
  },
  {
   "cell_type": "markdown",
   "metadata": {},
   "source": [
    "## Set up atlas and parameters"
   ]
  },
  {
   "cell_type": "code",
   "execution_count": 40,
   "metadata": {},
   "outputs": [],
   "source": [
    "###USER-SPECIFIED PARAMETERS###\n",
    "# Specify NDMG run parameters\n",
    "## CHOICES:\n",
    "## atlases = ['desikan', 'CPAC200', 'DKT', 'HarvardOxfordcort', 'HarvardOxfordsub', 'JHU', 'Schaefer2018-200', 'Talairach', 'aal', 'brodmann', 'glasser', 'yeo-7-liberal', 'yeo-17-liberal']\n",
    "## mod_types = ['det', 'prob']\n",
    "## track_types = ['local', 'particle']\n",
    "## mods = ['csa', 'csd']\n",
    "## regs = ['native', 'native_dsn', 'mni']\n",
    "## vox_size = ['1mm', '2mm']\n",
    "\n",
    "# Select an atlas\n",
    "atlas = 'desikan'\n",
    "mod_type = 'det'\n",
    "track_type = 'local'\n",
    "mod_func = 'csd'\n",
    "reg_style = 'native'\n",
    "vox_size = '2mm'\n",
    "seeds = 20\n",
    "\n",
    "# Set an output directory\n",
    "outdir = '/tmp/output_{}_{}_{}_{}_{}_{}_{}'.format(atlas, mod_type, track_type, mod_func, seeds, reg_style, subject)\n",
    "###############################\n",
    "# Download neuroparc files\n",
    "atlas_dir = op.expanduser(\"~\") + \"/.ndmg/ndmg_atlases\"\n",
    "\n",
    "# Requires that git lfs is installed\n",
    "if not op.isdir(atlas_dir):\n",
    "    os.mkdir(atlas_dir)\n",
    "    clone = \"https://github.com/neurodata/neuroparc.git\"\n",
    "    os.system(\"git lfs clone {} {}\".format(clone, atlas_dir))\n",
    "\n",
    "# Auto-set paths to neuroparc files\n",
    "mask = str(Path.home()) + '/.ndmg/ndmg_atlases/atlases/mask/MNI152NLin6_res-2x2x2_T1w_descr-brainmask.nii.gz'\n",
    "labels = [i for i in glob.glob(str(Path.home()) + '/.ndmg/ndmg_atlases/atlases/label/Human/*2x2x2.nii.gz') if atlas in i]"
   ]
  },
  {
   "cell_type": "markdown",
   "metadata": {},
   "source": [
    "## Nipype imports"
   ]
  },
  {
   "cell_type": "code",
   "execution_count": 41,
   "metadata": {},
   "outputs": [],
   "source": [
    "'''\n",
    "Import nipype utilities (must install nipype)\n",
    "'''\n",
    "from nipype.pipeline import engine as pe\n",
    "from nipype.interfaces import utility as niu\n",
    "from nipype.interfaces.base import BaseInterface, BaseInterfaceInputSpec, TraitedSpec, File, traits, SimpleInterface"
   ]
  },
  {
   "cell_type": "markdown",
   "metadata": {},
   "source": [
    "## Nipype workflow"
   ]
  },
  {
   "cell_type": "markdown",
   "metadata": {},
   "source": [
    "### Setup"
   ]
  },
  {
   "cell_type": "code",
   "execution_count": 42,
   "metadata": {},
   "outputs": [],
   "source": [
    "'''\n",
    "Construct multi-subject workflow\n",
    "'''\n",
    "\n",
    "wf = pe.Workflow(name=\"NDMG_group_wf\")\n",
    "\n",
    "# Create an import list of modules/objects to permeate the workflow environment\n",
    "import_list = [\"import shutil\", \"import time\", \"import os\", \"import numpy as np\", \"import networkx as nx\",\n",
    "               \"import nibabel as nib\", \"import warnings\", \"warnings.filterwarnings(\\\"ignore\\\")\",\n",
    "               \"np.warnings.filterwarnings(\\\"ignore\\\")\", \"warnings.simplefilter(\\\"ignore\\\")\", \n",
    "               \"from subprocess import Popen\", \"from dipy.tracking.streamline import Streamlines\",\n",
    "              \"import ndmg\", \"from ndmg import preproc as mgp\", \"from ndmg.utils import gen_utils as mgu\", \n",
    "               \"from ndmg.utils import s3_utils\", \"from ndmg.register import gen_reg as mgr\", \n",
    "               \"from ndmg.track import gen_track as mgt\", \"from ndmg.graph import gen_graph as mgg\",\n",
    "              \"from ndmg.utils.bids_utils import name_resource\", \"from ndmg.stats.qa_tensor import *\", \n",
    "               \"from ndmg.stats.qa_fibers import *\", \"from datetime import datetime\"]\n",
    "\n",
    "inputnode = pe.Node(niu.IdentityInterface(fields=['atlas', 'mask', 'labels', \n",
    "                                                  'outdir', 'vox_size', 'mod_type', \n",
    "                                                  'track_type', 'mod_func', 'reg_style', 'clean', \n",
    "                                                  'skedy', 'skipreg']),\n",
    "                    name='inputnode', imports=import_list)\n",
    "\n",
    "inputnode.inputs.atlas = atlas\n",
    "inputnode.inputs.mask = mask\n",
    "inputnode.inputs.labels = labels[0]\n",
    "inputnode.inputs.outdir = outdir\n",
    "inputnode.inputs.vox_size = vox_size\n",
    "inputnode.inputs.mod_type = mod_type\n",
    "inputnode.inputs.track_type = track_type\n",
    "inputnode.inputs.mod_func = mod_func\n",
    "inputnode.inputs.seeds = seeds\n",
    "inputnode.inputs.reg_style = reg_style\n",
    "inputnode.inputs.clean = False\n",
    "inputnode.inputs.skedy = False\n",
    "inputnode.inputs.skipreg = False\n",
    "\n",
    "# Make NDMG an interface\n",
    "class ndmgDWIworkerInputSpec(BaseInterfaceInputSpec):\n",
    "    \"\"\"\n",
    "    Input interface wrapper for ndmgDWIworker\n",
    "    \"\"\"\n",
    "    dwi = traits.Str(mandatory=True)\n",
    "    bvals = traits.Str(mandatory=True)\n",
    "    bvecs = traits.Str(mandatory=True)\n",
    "    t1w = traits.Str(mandatory=True)\n",
    "    atlas = traits.Str(mandatory=True)\n",
    "    mask = traits.Str(mandatory=True)\n",
    "    labels = traits.Str(mandatory=True)\n",
    "    outdir = traits.Str(mandatory=True)\n",
    "    vox_size = traits.Str(mandatory=True)\n",
    "    mod_type = traits.Str(mandatory=True)\n",
    "    track_type = traits.Str(mandatory=True)\n",
    "    mod_func = traits.Str(mandatory=True)\n",
    "    seeds = traits.Str(mandatory=True)\n",
    "    reg_style = traits.Str(mandatory=True)\n",
    "    clean = traits.Bool(mandatory=False)\n",
    "    skedy = traits.Bool(mandatory=False)\n",
    "    skipreg = traits.Bool(mandatory=False)\n",
    "\n",
    "class ndmgDWIworker(BaseInterface):\n",
    "    \"\"\"\n",
    "    Interface wrapper for ndmgDWIworker\n",
    "    \"\"\"\n",
    "    input_spec = ndmgDWIworkerInputSpec\n",
    "\n",
    "    def _run_interface(self, runtime):\n",
    "        out = ndmg_dwi_pipeline.ndmg_dwi_worker(\n",
    "            self.inputs.dwi,\n",
    "            self.inputs.bvals,\n",
    "            self.inputs.bvecs,\n",
    "            self.inputs.t1w,\n",
    "            self.inputs.atlas,\n",
    "            self.inputs.mask,\n",
    "            self.inputs.labels,\n",
    "            self.inputs.outdir,\n",
    "            self.inputs.vox_size,\n",
    "            self.inputs.mod_type,\n",
    "            self.inputs.track_type,\n",
    "            self.inputs.mod_func,\n",
    "            self.inputs.seeds,\n",
    "            self.inputs.reg_style,\n",
    "            self.inputs.clean,\n",
    "            self.inputs.skedy,\n",
    "            self.inputs.skipreg)\n",
    "        setattr(self, '_outpath', out)\n",
    "        return runtime"
   ]
  },
  {
   "cell_type": "markdown",
   "metadata": {},
   "source": [
    "### Set up the main pipeline as a nipype node"
   ]
  },
  {
   "cell_type": "code",
   "execution_count": 42,
   "metadata": {},
   "outputs": [],
   "source": [
    "# Make the NDMG wf itself a node of the DAG\n",
    "ndmg_dwi_worker_node = pe.Node(interface=ndmgDWIworker(),\n",
    "                                  inputs=['dwi', 'bvals', 'bvecs', 't1w',\n",
    "                                          'atlas', 'mask', 'labels', \n",
    "                                          'outdir', 'vox_size', 'mod_type', \n",
    "                                          'track_type', 'mod_func', 'seeds', \n",
    "                                          'reg_style', 'clean', 'skedy', 'skipreg'],\n",
    "                                   nested=True, synchronize=True, name='ndmg_dwi_worker_node', imports=import_list)\n",
    "\n",
    "# Restrict cpu and memory for that node such that scheduling will wait for available \n",
    "# resources before proceeding with additional subjects in parallel\n",
    "ndmg_dwi_worker_node.interface.n_procs = 2\n",
    "ndmg_dwi_worker_node.interface.mem_gb = 8"
   ]
  },
  {
   "cell_type": "markdown",
   "metadata": {},
   "source": [
    "Here, we define all of the variables that change depending on the file as node iterables."
   ]
  },
  {
   "cell_type": "code",
   "execution_count": 42,
   "metadata": {},
   "outputs": [],
   "source": [
    "# Make subject files iterable\n",
    "ndmg_dwi_worker_node.iterables = [(\"dwi\", [i[4] for i in input_files]), (\"bvals\", [i[2] for i in input_files]), (\"bvecs\", [i[3] for i in input_files]), (\"t1w\", [i[1] for i in input_files])]\n",
    "\n",
    "# Connect variables of workflow\n",
    "wf.connect([\n",
    "    (inputnode, ndmg_dwi_worker_node, [('atlas', 'atlas'), \n",
    "                                       ('mask', 'mask'), \n",
    "                                       ('labels', 'labels'), \n",
    "                                       ('outdir', 'outdir'), \n",
    "                                       ('vox_size', 'vox_size'), \n",
    "                                       ('mod_type', 'mod_type'), \n",
    "                                       ('track_type', 'track_type'), \n",
    "                                       ('mod_func', 'mod_func'), \n",
    "                                       ('seeds', 'seeds'), \n",
    "                                       ('reg_style', 'reg_style'), \n",
    "                                       ('clean', 'clean'), \n",
    "                                       ('skedy', 'skedy'), \n",
    "                                       ('skipreg', 'skipreg')])\n",
    "])\n",
    "\n",
    "# Configure wf execution\n",
    "cfg = dict(execution={'stop_on_first_crash': True, 'hash_method': 'content', 'crashfile_format': 'txt',\n",
    "                      'display_variable': ':0', 'job_finished_timeout': 65, 'matplotlib_backend': 'Agg',\n",
    "                      'use_relative_paths': True, 'parameterize_dirs': False,\n",
    "                      'remove_unnecessary_outputs': False, 'remove_node_directories': False,\n",
    "                      'raise_insufficient': True})\n",
    "for key in cfg.keys():\n",
    "    for setting, value in cfg[key].items():\n",
    "        wf.config[key][setting] = value"
   ]
  },
  {
   "cell_type": "markdown",
   "metadata": {},
   "source": [
    "## Run nipype"
   ]
  },
  {
   "cell_type": "code",
   "execution_count": 42,
   "metadata": {},
   "outputs": [],
   "source": [
    "# Set runtime directory to home directory\n",
    "wf.base_dir = op.expanduser(\"~\")\n",
    "\n",
    "# Run wf using multiproc scheduler\n",
    "wf.run(plugin='MultiProc', plugin_args = {'n_procs': int(2), 'memory_gb': int(16)})"
   ]
  }
 ],
 "metadata": {
  "kernelspec": {
   "display_name": "ndmg",
   "language": "python",
   "name": "ndmg"
  },
  "language_info": {
   "codemirror_mode": {
    "name": "ipython",
    "version": 3
   },
   "file_extension": ".py",
   "mimetype": "text/x-python",
   "name": "python",
   "nbconvert_exporter": "python",
   "pygments_lexer": "ipython3",
   "version": "3.6.8"
  }
 },
 "nbformat": 4,
 "nbformat_minor": 4
}
