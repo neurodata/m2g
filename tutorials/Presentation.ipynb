{
 "cells": [
  {
   "cell_type": "markdown",
   "metadata": {},
   "source": [
    "# NEURODATA MRI TO GRAPHS (NDMG)"
   ]
  },
  {
   "cell_type": "markdown",
   "metadata": {},
   "source": [
    "## Setup Steps"
   ]
  },
  {
   "cell_type": "code",
   "execution_count": 1,
   "metadata": {},
   "outputs": [
    {
     "name": "stderr",
     "output_type": "stream",
     "text": [
      "/opt/conda/lib/python3.7/site-packages/sklearn/externals/joblib/__init__.py:15: DeprecationWarning: sklearn.externals.joblib is deprecated in 0.21 and will be removed in 0.23. Please import this functionality directly from joblib, which can be installed with: pip install joblib. If this warning is raised when loading pickled models, you may need to re-serialize those models with scikit-learn 0.21+.\n",
      "  warnings.warn(msg, category=DeprecationWarning)\n"
     ]
    },
    {
     "name": "stdout",
     "output_type": "stream",
     "text": [
      "dwi = /mnt/labbook/input/data/BNU1/sub-0025864/ses-1/dwi/sub-0025864_ses-1_dwi.nii.gz\n",
      "bvals = /mnt/labbook/input/data/BNU1/sub-0025864/ses-1/dwi/sub-0025864_ses-1_dwi.bval\n",
      "bvecs = /mnt/labbook/input/data/BNU1/sub-0025864/ses-1/dwi/sub-0025864_ses-1_dwi.bvec\n",
      "t1w = /mnt/labbook/input/data/BNU1/sub-0025864/ses-1/anat/sub-0025864_ses-1_T1w.nii.gz\n",
      "atlas = desikan\n",
      "mask = /ndmg_atlases/atlases/mask/MNI152NLin6_res-2x2x2_T1w_descr-brainmask.nii.gz\n",
      "labels = ['/ndmg_atlases/atlases/label/Human/desikan_space-MNI152NLin6_res-2x2x2.nii.gz']\n",
      "outdir = /mnt/labbook/output/untracked\n",
      "vox_size = 2mm\n",
      "mod_type = det\n",
      "track_type = local\n",
      "mod_func = csa\n",
      "seed density = 1\n",
      "reg_style = native\n",
      "clean = False\n",
      "skip eddy = (False,)\n",
      "skip registration = (False,)\n",
      "Output directory: /mnt/labbook/output/untracked\n",
      "Adding directory tree...\n",
      "Connectomes downsampled to given labels: /mnt/labbook/output/untracked/dwi/roi-connectomes/desikan_space-MNI152NLin6_res-2x2x2/sub-0025864_ses-1_dwi_desikan_space-MNI152NLin6_res-2x2x2_measure-spatial-ds_adj.csv\n",
      "DONE\n"
     ]
    }
   ],
   "source": [
    "import warnings\n",
    "warnings.filterwarnings('ignore')\n",
    "warnings.simplefilter('ignore')\n",
    "\n",
    "# Standard Library\n",
    "import os\n",
    "import shutil\n",
    "import time\n",
    "from datetime import datetime\n",
    "from subprocess import Popen\n",
    "\n",
    "# External Packages\n",
    "import numpy as np\n",
    "import nibabel as nib\n",
    "from dipy.tracking.streamline import Streamlines\n",
    "\n",
    "# Internal Imports\n",
    "import ndmg\n",
    "from ndmg import preproc as mgp\n",
    "from ndmg.utils import gen_utils as mgu\n",
    "from ndmg.register import gen_reg as mgr\n",
    "from ndmg.track import gen_track as mgt\n",
    "from ndmg.graph import gen_graph as mgg\n",
    "from ndmg.utils.bids_utils import name_resource\n",
    "\n",
    "# Inputs\n",
    "dwi = '/mnt/labbook/input/data/BNU1/sub-0025864/ses-1/dwi/sub-0025864_ses-1_dwi.nii.gz'\n",
    "bvals = '/mnt/labbook/input/data/BNU1/sub-0025864/ses-1/dwi/sub-0025864_ses-1_dwi.bval'\n",
    "bvecs = '/mnt/labbook/input/data/BNU1/sub-0025864/ses-1/dwi/sub-0025864_ses-1_dwi.bvec'\n",
    "t1w = '/mnt/labbook/input/data/BNU1/sub-0025864/ses-1/anat/sub-0025864_ses-1_T1w.nii.gz'\n",
    "atlas = 'desikan'\n",
    "mask = '/ndmg_atlases/atlases/mask/MNI152NLin6_res-2x2x2_T1w_descr-brainmask.nii.gz'\n",
    "labels = ['/ndmg_atlases/atlases/label/Human/desikan_space-MNI152NLin6_res-2x2x2.nii.gz']\n",
    "outdir = '/mnt/labbook/output/untracked'\n",
    "vox_size = '2mm'\n",
    "mod_type = 'det'\n",
    "track_type = 'local'\n",
    "mod_func = 'csa'\n",
    "seed_dens = 1\n",
    "reg_style = 'native'\n",
    "clean = False\n",
    "skipeddy=False,\n",
    "skipreg=False,\n",
    "buck=None,\n",
    "remo=None,\n",
    "push=False,\n",
    "creds=None,\n",
    "debug=False,\n",
    "modif=\"\",\n",
    "\n",
    "assert all(map(os.path.exists, [dwi, bvals, bvecs, t1w, mask, labels[0], outdir]))\n",
    "\n",
    "\"\"\"Creates a brain graph from MRI data\n",
    "\n",
    "Parameters\n",
    "----------\n",
    "dwi : str\n",
    "    Path for the dwi file(s)\n",
    "bvals : str\n",
    "    Path for the bval file(s)\n",
    "bvecs : str\n",
    "    Path for the bvec file(s)\n",
    "t1w : str\n",
    "    Location of anatomical input file(s)\n",
    "atlas : str\n",
    "    Location of atlas file\n",
    "mask : str\n",
    "    Location of T1w brain mask file, make sure the proper voxel size is used\n",
    "labels : list\n",
    "    Location of file containing the labels for the atlas file(s)\n",
    "outdir : str\n",
    "    The directory where the output files should be stored. Prepopulate this folder with results of participants level analysis if running gorup analysis.\n",
    "vox_size : str\n",
    "    Voxel size to use for template registrations. Default is '2mm'.\n",
    "mod_type : str\n",
    "    Determinstic (det) or probabilistic (prob) tracking. Default is det.\n",
    "track_type : str\n",
    "    Tracking approach: eudx or local. Default is eudx.\n",
    "mod_func : str\n",
    "    Diffusion model: csd, csa, or tensor. Default is tensor.\n",
    "seeds : int\n",
    "    Density of seeding for native-space tractography.\n",
    "reg_style : str\n",
    "    Space for tractography. Default is native.\n",
    "clean : bool\n",
    "    Whether or not to delete intermediates. Default is False.\n",
    "skipeddy : bool\n",
    "    Whether or not to skip the eddy correction if it has already been run. Default is False.\n",
    "skipreg : bool\n",
    "    Whether or not to skip registration. Default is False.\n",
    "buck : str, optional\n",
    "    The name of an S3 bucket which holds BIDS organized data. You musht have build your bucket with credentials to the S3 bucket you wish to access. Default is None\n",
    "remo : str, optional\n",
    "    The path to the data on your S3 bucket. The data will be downloaded to the provided bids_dir on your machine. Default is None.\n",
    "push : bool, optional\n",
    "    Flag to push derivatives back to S3. Default is False\n",
    "creds : bool, optional\n",
    "    Determine if you have S3 credentials. Default is True\n",
    "debug : bool, optional\n",
    "    If False, remove any old filed in the output directory. Default is False\n",
    "modif : str, optional\n",
    "    Name of the folder on s3 to push to. If empty, push to a folder with ndmg's version number. Default is \"\"\n",
    "\n",
    "Raises\n",
    "------\n",
    "ValueError\n",
    "    Raised if downsampling voxel size is not supported\n",
    "ValueError\n",
    "    Raised if bval/bvecs are potentially corrupted\n",
    "\"\"\"\n",
    "print(\"dwi = {}\".format(dwi))\n",
    "print(\"bvals = {}\".format(bvals))\n",
    "print(\"bvecs = {}\".format(bvecs))\n",
    "print(\"t1w = {}\".format(t1w))\n",
    "print(\"atlas = {}\".format(atlas))\n",
    "print(\"mask = {}\".format(mask))\n",
    "print(\"labels = {}\".format(labels))\n",
    "print(\"outdir = {}\".format(outdir))\n",
    "print(\"vox_size = {}\".format(vox_size))\n",
    "print(\"mod_type = {}\".format(mod_type))\n",
    "print(\"track_type = {}\".format(track_type))\n",
    "print(\"mod_func = {}\".format(mod_func))\n",
    "print(\"seed density = {}\".format(seed_dens))\n",
    "print(\"reg_style = {}\".format(reg_style))\n",
    "print(\"clean = {}\".format(clean))\n",
    "print(\"skip eddy = {}\".format(skipeddy))\n",
    "print(\"skip registration = {}\".format(skipreg))\n",
    "fmt = \"_adj.csv\"\n",
    "\n",
    "assert all(\n",
    "    [\n",
    "        dwi,\n",
    "        bvals,\n",
    "        bvecs,\n",
    "        t1w,\n",
    "        atlas,\n",
    "        mask,\n",
    "        labels,\n",
    "        outdir,\n",
    "        vox_size,\n",
    "        mod_type,\n",
    "        track_type,\n",
    "        mod_func,\n",
    "        seed_dens,\n",
    "        reg_style,\n",
    "    ]\n",
    "), \"Missing a default argument.\"\n",
    "\n",
    "namer = name_resource(dwi, t1w, atlas, outdir)\n",
    "\n",
    "# TODO : do this with shutil instead of an os command\n",
    "print(\"Output directory: \" + outdir)\n",
    "if not os.path.isdir(outdir):\n",
    "    cmd = \"mkdir -p {}\".format(outdir)\n",
    "    os.system(cmd)\n",
    "\n",
    "paths = {\n",
    "    \"prep_dwi\": \"dwi/preproc\",\n",
    "    \"prep_anat\": \"anat/preproc\",\n",
    "    \"reg_anat\": \"anat/registered\",\n",
    "    \"fiber\": \"dwi/fiber\",\n",
    "    \"tensor\": \"dwi/tensor\",\n",
    "    \"conn\": \"dwi/roi-connectomes\"\n",
    "}\n",
    "\n",
    "label_dirs = [\"conn\"]  # create label level granularity\n",
    "\n",
    "print(\"Adding directory tree...\")\n",
    "namer.add_dirs_dwi(paths, labels, label_dirs)\n",
    "\n",
    "# Create derivative output file names\n",
    "streams = namer.name_derivative(namer.dirs[\"output\"][\"fiber\"], \"streamlines.trk\")\n",
    "\n",
    "# Again, connectomes are different\n",
    "if not isinstance(labels, list):\n",
    "    labels = [labels]\n",
    "connectomes = [\n",
    "    namer.name_derivative(\n",
    "        namer.dirs[\"output\"][\"conn\"][namer.get_label(lab)],\n",
    "        \"{}_{}_measure-spatial-ds{}\".format(\n",
    "            namer.get_mod_source(), namer.get_label(lab), fmt\n",
    "        ),\n",
    "    )\n",
    "    for lab in labels\n",
    "]\n",
    "\n",
    "print(\"Connectomes downsampled to given labels: \" + \", \".join(connectomes))\n",
    "\n",
    "if vox_size != \"1mm\" and vox_size != \"2mm\":\n",
    "    raise ValueError(\"Voxel size not supported. Use 2mm or 1mm\")\n",
    "print('DONE')"
   ]
  },
  {
   "cell_type": "markdown",
   "metadata": {},
   "source": [
    "## Preprocessing"
   ]
  },
  {
   "cell_type": "markdown",
   "metadata": {},
   "source": [
    "### Eddy Correction"
   ]
  },
  {
   "cell_type": "code",
   "execution_count": 2,
   "metadata": {},
   "outputs": [
    {
     "name": "stdout",
     "output_type": "stream",
     "text": [
      "Performing eddy correction...\n",
      "2019-08-22 03:27:19\n",
      "eddy_correct /mnt/labbook/input/data/BNU1/sub-0025864/ses-1/dwi/sub-0025864_ses-1_dwi.nii.gz /mnt/labbook/output/untracked/dwi/preproc/eddy_corrected_data.nii.gz 0\n",
      "0\n",
      "eddy correct time: 59.48024296760559 seconds.\n",
      "DONE\n"
     ]
    }
   ],
   "source": [
    "# Perform eddy correction\n",
    "dwi_prep = \"{}/eddy_corrected_data.nii.gz\".format(namer.dirs[\"output\"][\"prep_dwi\"])\n",
    "\n",
    "if len(os.listdir(namer.dirs[\"output\"][\"prep_dwi\"])) != 0:\n",
    "    if skipeddy is False:\n",
    "        try:\n",
    "            print(\"Pre-existing preprocessed dwi files found. Deleting these...\")\n",
    "            shutil.rmtree(namer.dirs[\"output\"][\"prep_dwi\"])\n",
    "            os.mkdir(namer.dirs[\"output\"][\"prep_dwi\"])\n",
    "        except Exception as e:\n",
    "            print(\"Exception when trying to delete existing data: {}\".format(e))\n",
    "            pass\n",
    "        print(\"Performing eddy correction...\")\n",
    "        cmd = \"eddy_correct \" + dwi + \" \" + dwi_prep + \" 0\"\n",
    "        print(cmd)\n",
    "        sts = Popen(cmd, shell=True).wait()\n",
    "        print(sts)\n",
    "        ts = time.time()\n",
    "        st = datetime.fromtimestamp(ts).strftime(\"%Y-%m-%d %H:%M:%S\")\n",
    "        print(st)\n",
    "    else:\n",
    "        if not os.path.isfile(dwi_prep):\n",
    "            raise ValueError(\n",
    "                \"ERROR: Cannot skip eddy correction if it has not already been run!\"\n",
    "            )\n",
    "else:\n",
    "    print(\"Performing eddy correction...\")\n",
    "    ts = time.time()\n",
    "    st = datetime.fromtimestamp(ts).strftime(\"%Y-%m-%d %H:%M:%S\")\n",
    "    print(st)\n",
    "    cmd = \"eddy_correct \" + dwi + \" \" + dwi_prep + \" 0\"\n",
    "    print(cmd)\n",
    "    sts = Popen(cmd, shell=True).wait()\n",
    "    print(sts)\n",
    "    print(f\"eddy correct time: {time.time() - ts} seconds.\")\n",
    "print('DONE')"
   ]
  },
  {
   "cell_type": "markdown",
   "metadata": {},
   "source": [
    "### Scale and Correct Gradient Files"
   ]
  },
  {
   "cell_type": "code",
   "execution_count": 3,
   "metadata": {},
   "outputs": [
    {
     "name": "stdout",
     "output_type": "stream",
     "text": [
      "DONE\n"
     ]
    }
   ],
   "source": [
    "# Instantiate bvec/bval naming variations and copy to derivative director\n",
    "bvec_scaled = \"{}/bvec_scaled.bvec\".format(namer.dirs[\"output\"][\"prep_dwi\"])\n",
    "fbval = \"{}/bval.bval\".format(namer.dirs[\"output\"][\"prep_dwi\"])\n",
    "fbvec = \"{}/bvec.bvec\".format(namer.dirs[\"output\"][\"prep_dwi\"])\n",
    "shutil.copyfile(bvecs, fbvec)\n",
    "shutil.copyfile(bvals, fbval)\n",
    "\n",
    "# Correct any corrupted bvecs/bvals\n",
    "from dipy.io import read_bvals_bvecs\n",
    "\n",
    "bvals, bvecs = read_bvals_bvecs(fbval, fbvec)\n",
    "bvecs[np.where(np.any(abs(bvecs) >= 10, axis=1) == True)] = [1, 0, 0]\n",
    "bvecs[np.where(bvals == 0)] = 0\n",
    "if (\n",
    "    len(\n",
    "        bvecs[\n",
    "            np.where(\n",
    "                np.logical_and(\n",
    "                    bvals > 50, np.all(abs(bvecs) == np.array([0, 0, 0]), axis=1)\n",
    "                )\n",
    "            )\n",
    "        ]\n",
    "    )\n",
    "    > 0\n",
    "):\n",
    "    raise ValueError(\n",
    "        \"WARNING: Encountered potentially corrupted bval/bvecs. Check to ensure volumes with a \"\n",
    "        \"diffusion weighting are not being treated as B0's along the bvecs\"\n",
    "    )\n",
    "np.savetxt(fbval, bvals)\n",
    "np.savetxt(fbvec, bvecs)\n",
    "print('DONE')"
   ]
  },
  {
   "cell_type": "markdown",
   "metadata": {},
   "source": [
    "## Ndmg Preprocessing: Reorienting / Rescaling"
   ]
  },
  {
   "cell_type": "code",
   "execution_count": 4,
   "metadata": {},
   "outputs": [
    {
     "name": "stdout",
     "output_type": "stream",
     "text": [
      "Rescaling b-vectors...\n",
      "Reorienting /mnt/labbook/output/untracked/dwi/preproc/eddy_corrected_data.nii.gz to RAS+...\n",
      "Reorienting runtime: 0.9s\n",
      "Reslicing image /mnt/labbook/output/untracked/dwi/preproc/eddy_corrected_data_reor_RAS.nii.gz to 2mm...\n",
      "Reslicing runtime: 9.7s\n",
      "DONE\n"
     ]
    }
   ],
   "source": [
    "# Rescale bvecs\n",
    "start_time = time.time()\n",
    "print(\"Rescaling b-vectors...\")\n",
    "mgp.rescale_bvec(fbvec, bvec_scaled)\n",
    "\n",
    "# Check orientation (dwi_prep)\n",
    "[dwi_prep, bvecs] = mgu.reorient_dwi(dwi_prep, bvec_scaled, namer)\n",
    "print(\n",
    "    \"%s%s%s\"\n",
    "    % (\"Reorienting runtime: \", str(np.round(time.time() - start_time, 1)), \"s\")\n",
    ")\n",
    "\n",
    "# Check dimensions\n",
    "start_time = time.time()\n",
    "dwi_prep = mgu.match_target_vox_res(dwi_prep, vox_size, namer, sens=\"dwi\")\n",
    "print(\n",
    "    \"%s%s%s\"\n",
    "    % (\"Reslicing runtime: \", str(np.round(time.time() - start_time, 1)), \"s\")\n",
    ")\n",
    "print('DONE')"
   ]
  },
  {
   "cell_type": "markdown",
   "metadata": {},
   "source": [
    "### Build Gradient Table"
   ]
  },
  {
   "cell_type": "code",
   "execution_count": 5,
   "metadata": {},
   "outputs": [
    {
     "name": "stdout",
     "output_type": "stream",
     "text": [
      "fbval:  /mnt/labbook/output/untracked/dwi/preproc/bval.bval\n",
      "bvecs:  /mnt/labbook/output/untracked/dwi/preproc/bvecs_reor.bvec\n",
      "fbvec:  /mnt/labbook/output/untracked/dwi/preproc/bvec.bvec\n",
      "dwi_prep:  /mnt/labbook/output/untracked/dwi/preproc/eddy_corrected_data_reor_RAS_res.nii.gz\n",
      "namer.dirs:  /mnt/labbook/output/untracked/dwi/preproc\n",
      "/mnt/labbook/output/untracked/dwi/preproc/bval.bval\n",
      "/mnt/labbook/output/untracked/dwi/preproc/bvec.bvec\n",
      "B0's found at: [0]\n",
      "B-values shape (16,)\n",
      "         min 0.000000 \n",
      "         max 1000.000000 \n",
      "B-vectors shape (16, 3)\n",
      "         min -0.978756 \n",
      "         max 0.941755 \n",
      "None\n",
      "Extracting B0's...\n",
      "0\n",
      "fslroi /mnt/labbook/output/untracked/dwi/preproc/eddy_corrected_data_reor_RAS_res.nii.gz /mnt/labbook/output/untracked/dwi/preproc/0_B0.nii.gz 0 1\n",
      "Preprocessing runtime: 27.2s\n",
      "DONE\n"
     ]
    }
   ],
   "source": [
    "start_time = time.time()\n",
    "\n",
    "print(\"fbval: \", fbval)\n",
    "print(\"bvecs: \", bvecs)\n",
    "print(\"fbvec: \", fbvec)\n",
    "print(\"dwi_prep: \", dwi_prep)\n",
    "print(\"namer.dirs: \", namer.dirs[\"output\"][\"prep_dwi\"])\n",
    "[gtab, nodif_B0, nodif_B0_mask] = mgu.make_gtab_and_bmask(\n",
    "    fbval, fbvec, dwi_prep, namer.dirs[\"output\"][\"prep_dwi\"]\n",
    ")\n",
    "\n",
    "# Get B0 header and affine\n",
    "dwi_prep_img = nib.load(dwi_prep)\n",
    "hdr = dwi_prep_img.header\n",
    "print(\n",
    "    \"%s%s%s\"\n",
    "    % (\"Preprocessing runtime: \", str(np.round(time.time() - start_time, 1)), \"s\")\n",
    ")\n",
    "print('DONE')"
   ]
  },
  {
   "cell_type": "markdown",
   "metadata": {},
   "source": [
    "## NDMG REGISTRATION"
   ]
  },
  {
   "cell_type": "code",
   "execution_count": 6,
   "metadata": {},
   "outputs": [
    {
     "name": "stdout",
     "output_type": "stream",
     "text": [
      "Reorienting /mnt/labbook/input/data/BNU1/sub-0025864/ses-1/anat/sub-0025864_ses-1_T1w.nii.gz to RAS+...\n",
      "Reslicing image /mnt/labbook/output/untracked/anat/preproc/sub-0025864_ses-1_T1w_reor_RAS.nii.gz to 2mm...\n",
      "Reorienting runtime: 1.4s\n",
      "Running registration in native space...\n",
      "Extracting brain from raw T1w image...\n",
      "Executing: 3dSkullStrip -prefix /mnt/labbook/output/untracked/anat/preproc/t1w_brain.nii.gz -input /mnt/labbook/output/untracked/anat/preproc/sub-0025864_ses-1_T1w_reor_RAS_res.nii.gz\n",
      "Segmenting Anatomical Image into WM, GM, and CSF with FSL's FAST:\n",
      "Executing fast: fast -t 1  -n 3 -o /mnt/labbook/output/untracked/anat/preproc/t1w_seg /mnt/labbook/output/untracked/anat/preproc/t1w_brain.nii.gz\n",
      "Reslicing image /mnt/labbook/output/untracked/anat/preproc/t1w_brain.nii.gz to 2mm...\n",
      "Reslicing image /mnt/labbook/output/untracked/anat/preproc/t1w_seg_pve_2.nii.gz to 2mm...\n",
      "Reslicing image /mnt/labbook/output/untracked/anat/preproc/t1w_seg_pve_1.nii.gz to 2mm...\n",
      "Reslicing image /mnt/labbook/output/untracked/anat/preproc/t1w_seg_pve_0.nii.gz to 2mm...\n",
      "fslmaths /mnt/labbook/output/untracked/anat/preproc/t1w_wm_thr.nii.gz -edge -bin -mas /mnt/labbook/output/untracked/anat/preproc/t1w_wm_thr.nii.gz /mnt/labbook/output/untracked/tmp/reg_a/t1w_wm_edge.nii.gz\n",
      "gen_tissue runtime: 181.6s\n",
      "flirt -in /mnt/labbook/output/untracked/anat/preproc/t1w_brain_nores.nii.gz -ref /usr/share/fsl/5.0/data/standard/MNI152_T1_2mm_brain.nii.gz -omat /mnt/labbook/output/untracked/tmp/reg_m/xfm_t1w2mni_init.mat -dof 12 -interp spline -cost mutualinfo -searchrx -180 180 -searchry -180 180 -searchrz -180 180\n",
      "Running non-linear registration: T1w-->MNI ...\n",
      "fnirt --in=/mnt/labbook/output/untracked/anat/preproc/t1w_brain_nores.nii.gz --ref=/usr/share/fsl/5.0/data/standard/MNI152_T1_2mm_brain.nii.gz --aff=/mnt/labbook/output/untracked/tmp/reg_m/xfm_t1w2mni_init.mat --iout=/mnt/labbook/output/untracked/anat/preproc/t1w_aligned_mni.nii.gz --cout=/mnt/labbook/output/untracked/tmp/reg_a/warp_t12mni.nii.gz --warpres=8,8,8 --refmask=/usr/share/fsl/5.0/data/standard/MNI152_T1_2mm_brain_mask.nii.gz --applyrefmask=1 --config=/usr/share/fsl/5.0/etc/flirtsch/T1_2_MNI152_2mm.cnf\n",
      "invwarp --warp=/mnt/labbook/output/untracked/tmp/reg_a/warp_t12mni.nii.gz --out=/mnt/labbook/output/untracked/tmp/reg_a/mni2t1w_warp.nii.gz --ref=/mnt/labbook/output/untracked/anat/preproc/t1w_brain_nores.nii.gz\n",
      "convert_xfm -omat /mnt/labbook/output/untracked/tmp/reg_m/xfm_mni2t1w_init.mat -inverse /mnt/labbook/output/untracked/tmp/reg_m/xfm_t1w2mni_init.mat\n",
      "flirt -in /mnt/labbook/output/untracked/dwi/preproc/nodif_B0.nii.gz -ref /mnt/labbook/output/untracked/anat/preproc/t1w_brain_nores.nii.gz -omat /mnt/labbook/output/untracked/tmp/reg_m/t1w2dwi_xfm.mat -dof 6 -interp spline -cost mutualinfo -searchrx -180 180 -searchry -180 180 -searchrz -180 180\n",
      "convert_xfm -omat /mnt/labbook/output/untracked/tmp/reg_m/dwi2t1w_xfm.mat -inverse /mnt/labbook/output/untracked/tmp/reg_m/t1w2dwi_xfm.mat\n",
      "Running FLIRT BBR registration: T1w-->DWI ...\n",
      "flirt -in /mnt/labbook/output/untracked/dwi/preproc/nodif_B0.nii.gz -ref /mnt/labbook/output/untracked/anat/preproc/t1w_brain_nores.nii.gz -omat /mnt/labbook/output/untracked/tmp/reg_m/dwi2t1w_bbr_xfm.mat -dof 7 -bins 256 -interp spline -cost bbr -searchrx -180 180 -searchry -180 180 -searchrz -180 180 -schedule ${FSLDIR}/etc/flirtsch/bbr.sch -wmseg /mnt/labbook/output/untracked/tmp/reg_a/t1w_wm_edge.nii.gz -init /mnt/labbook/output/untracked/tmp/reg_m/dwi2t1w_xfm.mat\n",
      "flirt -in /mnt/labbook/output/untracked/anat/preproc/t1w_brain_nores.nii.gz -ref /mnt/labbook/output/untracked/dwi/preproc/nodif_B0.nii.gz -omat /mnt/labbook/output/untracked/tmp/reg_m/t1wtissue2dwi_xfm.mat -out /mnt/labbook/output/untracked/anat/registered/t1w_in_dwi.nii.gz -dof 7 -interp spline -cost mutualinfo -searchrx -180 180 -searchry -180 180 -searchrz -180 180 -init /mnt/labbook/output/untracked/tmp/reg_m/t1w2dwi_bbr_xfm.mat\n",
      "t1w2dwi_align runtime: 498.7s\n",
      "Creating MNI-space ventricle ROI...\n",
      "flirt -in /usr/share/fsl/5.0/data/atlases/HarvardOxford/HarvardOxford-sub-prob-2mm.nii.gz -ref /usr/share/fsl/5.0/data/standard/MNI152_T1_2mm_brain.nii.gz -omat /mnt/labbook/output/untracked/tmp/reg_m/roi_2_mni.mat -dof 6 -interp spline -cost mutualinfo -searchrx -180 180 -searchry -180 180 -searchrz -180 180\n",
      "flirt -in /ndmg_atlases/atlases/mask/HarvardOxford-thr25_space-MNI152NLin6_variant-lateral-ventricles_res-2x2x2_descr-brainmask.nii.gz -ref /usr/share/fsl/5.0/data/standard/MNI152_T1_2mm_brain.nii.gz -out /mnt/labbook/output/untracked/tmp/reg_a/vent_mask_mni.nii.gz -init /mnt/labbook/output/untracked/tmp/reg_m/roi_2_mni.mat -interp trilinear -dof 6 -applyxfm\n",
      "applywarp --ref=/mnt/labbook/output/untracked/anat/preproc/t1w_brain_nores.nii.gz --in=/mnt/labbook/output/untracked/tmp/reg_a/vent_mask_mni.nii.gz --out=/mnt/labbook/output/untracked/tmp/reg_a/vent_mask_t1w.nii.gz --warp=/mnt/labbook/output/untracked/tmp/reg_a/mni2t1w_warp.nii.gz --interp=nn --super --superlevel=a\n",
      "applywarp --ref=/mnt/labbook/output/untracked/anat/preproc/t1w_brain_nores.nii.gz --in=/ndmg_atlases/atlases/mask/CorpusCallosum_res_2mm.nii.gz --out=/mnt/labbook/output/untracked/anat/registered/t1w_corpuscallosum.nii.gz --warp=/mnt/labbook/output/untracked/tmp/reg_a/mni2t1w_warp.nii.gz --interp=nn --super --superlevel=a\n",
      "flirt -in /mnt/labbook/output/untracked/tmp/reg_a/vent_mask_t1w.nii.gz -ref /mnt/labbook/output/untracked/dwi/preproc/nodif_B0.nii.gz -out /mnt/labbook/output/untracked/tmp/reg_a/t1w_vent_mask_dwi.nii.gz -init /mnt/labbook/output/untracked/tmp/reg_m/t1wtissue2dwi_xfm.mat -interp trilinear -dof 6 -applyxfm\n",
      "flirt -in /mnt/labbook/output/untracked/anat/registered/t1w_corpuscallosum.nii.gz -ref /mnt/labbook/output/untracked/dwi/preproc/nodif_B0.nii.gz -out /mnt/labbook/output/untracked/anat/registered/t1w_corpuscallosum_dwi.nii.gz -init /mnt/labbook/output/untracked/tmp/reg_m/t1wtissue2dwi_xfm.mat -interp trilinear -dof 6 -applyxfm\n",
      "flirt -in /mnt/labbook/output/untracked/anat/preproc/t1w_seg_pve_0_nores.nii.gz -ref /mnt/labbook/output/untracked/dwi/preproc/nodif_B0.nii.gz -out /mnt/labbook/output/untracked/anat/registered/t1w_csf_mask_dwi.nii.gz -init /mnt/labbook/output/untracked/tmp/reg_m/t1wtissue2dwi_xfm.mat -interp trilinear -dof 6 -applyxfm\n",
      "flirt -in /mnt/labbook/output/untracked/anat/preproc/t1w_seg_pve_1_nores.nii.gz -ref /mnt/labbook/output/untracked/dwi/preproc/nodif_B0.nii.gz -out /mnt/labbook/output/untracked/anat/registered/t1w_gm_in_dwi.nii.gz -init /mnt/labbook/output/untracked/tmp/reg_m/t1wtissue2dwi_xfm.mat -interp trilinear -dof 6 -applyxfm\n",
      "flirt -in /mnt/labbook/output/untracked/anat/preproc/t1w_seg_pve_2_nores.nii.gz -ref /mnt/labbook/output/untracked/dwi/preproc/nodif_B0.nii.gz -out /mnt/labbook/output/untracked/anat/registered/t1w_wm_in_dwi.nii.gz -init /mnt/labbook/output/untracked/tmp/reg_m/t1wtissue2dwi_xfm.mat -interp trilinear -dof 6 -applyxfm\n",
      "Creating ventricular CSF mask...\n",
      "Creating Corpus Callosum mask...\n",
      "tissue2dwi_align runtime: 74.1s\n",
      "DONE\n"
     ]
    }
   ],
   "source": [
    "# -------- Registration Steps ----------------------------------- #\n",
    "if (skipreg is False) and len(os.listdir(namer.dirs[\"output\"][\"prep_anat\"])) != 0:\n",
    "    try:\n",
    "        print(\"Pre-existing preprocessed t1w files found. Deleting these...\")\n",
    "        shutil.rmtree(namer.dirs[\"output\"][\"prep_anat\"])\n",
    "        os.mkdir(namer.dirs[\"output\"][\"prep_anat\"])\n",
    "    except:\n",
    "        pass\n",
    "if (skipreg is False) and len(os.listdir(namer.dirs[\"output\"][\"reg_anat\"])) != 0:\n",
    "    try:\n",
    "        print(\"Pre-existing registered t1w files found. Deleting these...\")\n",
    "        shutil.rmtree(namer.dirs[\"output\"][\"reg_anat\"])\n",
    "        os.mkdir(namer.dirs[\"output\"][\"reg_anat\"])\n",
    "    except:\n",
    "        pass\n",
    "if (skipreg is False) and (\n",
    "    (len(os.listdir(namer.dirs[\"tmp\"][\"reg_a\"])) != 0)\n",
    "    or (len(os.listdir(namer.dirs[\"tmp\"][\"reg_m\"])) != 0)\n",
    "):\n",
    "    try:\n",
    "        print(\"Pre-existing temporary files found. Deleting these...\")\n",
    "        shutil.rmtree(namer.dirs[\"tmp\"][\"reg_a\"])\n",
    "        os.mkdir(namer.dirs[\"tmp\"][\"reg_a\"])\n",
    "        shutil.rmtree(namer.dirs[\"tmp\"][\"reg_m\"])\n",
    "        os.mkdir(namer.dirs[\"tmp\"][\"reg_m\"])\n",
    "    except:\n",
    "        pass\n",
    "\n",
    "# Check orientation (t1w)\n",
    "start_time = time.time()\n",
    "t1w = mgu.reorient_img(t1w, namer)\n",
    "t1w = mgu.match_target_vox_res(t1w, vox_size, namer, sens=\"t1w\")\n",
    "print(\n",
    "    \"%s%s%s\"\n",
    "    % (\"Reorienting runtime: \", str(np.round(time.time() - start_time, 1)), \"s\")\n",
    ")\n",
    "\n",
    "\n",
    "print(\"Running registration in native space...\")\n",
    "# Instantiate registration\n",
    "reg = mgr.DmriReg(namer, nodif_B0, nodif_B0_mask, t1w, vox_size, simple=False)\n",
    "\n",
    "# Perform anatomical segmentation\n",
    "start_time = time.time()\n",
    "if (skipreg is True) and os.path.isfile(reg.wm_edge):\n",
    "    print(\"Found existing gentissue run!\")\n",
    "    pass\n",
    "else:\n",
    "    reg.gen_tissue()\n",
    "    print(\n",
    "        \"%s%s%s\"\n",
    "        % (\n",
    "            \"gen_tissue runtime: \",\n",
    "            str(np.round(time.time() - start_time, 1)),\n",
    "            \"s\",\n",
    "        )\n",
    "    )\n",
    "\n",
    "# Align t1w to dwi\n",
    "start_time = time.time()\n",
    "if (\n",
    "    (skipreg is True)\n",
    "    and os.path.isfile(reg.t1w2dwi)\n",
    "    and os.path.isfile(reg.mni2t1w_warp)\n",
    "    and os.path.isfile(reg.t1_aligned_mni)\n",
    "):\n",
    "    print(\"Found existing t1w2dwi run!\")\n",
    "    pass\n",
    "else:\n",
    "    reg.t1w2dwi_align()\n",
    "    print(\n",
    "        \"%s%s%s\"\n",
    "        % (\n",
    "            \"t1w2dwi_align runtime: \",\n",
    "            str(np.round(time.time() - start_time, 1)),\n",
    "            \"s\",\n",
    "        )\n",
    "    )\n",
    "\n",
    "# Align tissue classifiers\n",
    "start_time = time.time()\n",
    "if (\n",
    "    (skipreg is True)\n",
    "    and os.path.isfile(reg.wm_gm_int_in_dwi)\n",
    "    and os.path.isfile(reg.vent_csf_in_dwi)\n",
    "    and os.path.isfile(reg.corpuscallosum_dwi)\n",
    "):\n",
    "    print(\"Found existing tissue2dwi run!\")\n",
    "    pass\n",
    "else:\n",
    "    reg.tissue2dwi_align()\n",
    "    print(\n",
    "        \"%s%s%s\"\n",
    "        % (\n",
    "            \"tissue2dwi_align runtime: \",\n",
    "            str(np.round(time.time() - start_time, 1)),\n",
    "            \"s\",\n",
    "        )\n",
    "    )\n",
    "print('DONE')"
   ]
  },
  {
   "cell_type": "markdown",
   "metadata": {},
   "source": [
    "## Reconstruction and Tractography"
   ]
  },
  {
   "cell_type": "markdown",
   "metadata": {},
   "source": [
    "### Seeding and Streamline Generation"
   ]
  },
  {
   "cell_type": "code",
   "execution_count": 7,
   "metadata": {},
   "outputs": [
    {
     "name": "stdout",
     "output_type": "stream",
     "text": [
      "Using 64337 seeds...\n",
      "Creating WM tissue classifier...\n",
      "Fitting CSA ODF model...\n",
      "Running local tracking...\n",
      "Reconstructing tractogram streamlines...\n",
      "Streamlines complete\n",
      "Tractography runtime: 311.6s\n",
      "DONE\n"
     ]
    }
   ],
   "source": [
    "start_time = time.time()\n",
    "seeds = mgt.build_seed_list(reg.wm_gm_int_in_dwi, np.eye(4), dens=int(seed_dens))\n",
    "print(\"Using \" + str(len(seeds)) + \" seeds...\")\n",
    "\n",
    "### Fit Diffusion Model (to get directions), and track.\n",
    "\n",
    "# Compute direction model and track fiber streamlines\n",
    "from dipy.tracking.streamline import Streamlines\n",
    "from dipy.tracking.local import BinaryTissueClassifier\n",
    "from dipy.reconst.shm import CsaOdfModel    \n",
    "from dipy.tracking.local import LocalTracking\n",
    "from dipy.data import get_sphere\n",
    "from dipy.direction import ProbabilisticDirectionGetter\n",
    "import tempfile\n",
    "tempfile.tempdir = '/tmp'\n",
    "\n",
    "dwi = dwi_prep\n",
    "gm_in_dwi = reg.gm_in_dwi\n",
    "vent_csf_in_dwi = reg.vent_csf_in_dwi\n",
    "csf_in_dwi = reg.csf_mask_dwi\n",
    "wm_in_dwi = reg.wm_in_dwi\n",
    "stream_affine = np.eye(4)\n",
    "dwi_img = nib.load(dwi)\n",
    "data = dwi_img.get_data()\n",
    "        \n",
    "print(\"Creating WM tissue classifier...\")\n",
    "wm_in_dwi_data = nib.load(wm_in_dwi).get_data().astype(\"bool\")\n",
    "tiss_classifier = BinaryTissueClassifier(wm_in_dwi_data)\n",
    "\n",
    "print(\"Fitting CSA ODF model...\")\n",
    "sphere = get_sphere(\"repulsion724\")\n",
    "mask_data = nib.load(nodif_B0_mask).get_data().astype(\"bool\")\n",
    "mod = CsaOdfModel(gtab, sh_order=6)\n",
    "mod_fit = mod.fit(data, wm_in_dwi_data)\n",
    "\n",
    "print('Running local tracking...')\n",
    "pdg = ProbabilisticDirectionGetter.from_shcoeff(mod_fit.shm_coeff, \n",
    "    max_angle=60.0, sphere=sphere\n",
    ")\n",
    "streamline_generator = LocalTracking(\n",
    "    pdg,\n",
    "    tiss_classifier,\n",
    "    seeds,\n",
    "    stream_affine,\n",
    "    step_size=0.5,\n",
    "    return_all=True,\n",
    ")\n",
    "\n",
    "print(\"Reconstructing tractogram streamlines...\")\n",
    "streamlines = Streamlines(streamline_generator)\n",
    "\n",
    "### Streamline Filtering\n",
    "streamlines = Streamlines([sl for sl in streamlines if len(sl) > 60])\n",
    "print(\"Streamlines complete\")\n",
    "\n",
    "### Save Streamlines\n",
    "trk_affine = np.eye(4)\n",
    "trk_hdr = nib.streamlines.trk.TrkFile.create_empty_header()\n",
    "trk_hdr[\"hdr_size\"] = 1000\n",
    "trk_hdr[\"dimensions\"] = hdr[\"dim\"][1:4].astype(\"float32\")\n",
    "trk_hdr[\"voxel_sizes\"] = hdr[\"pixdim\"][1:4]\n",
    "trk_hdr[\"voxel_to_rasmm\"] = trk_affine\n",
    "trk_hdr[\"voxel_order\"] = \"RAS\"\n",
    "trk_hdr[\"pad2\"] = \"RAS\"\n",
    "trk_hdr[\"image_orientation_patient\"] = np.array(\n",
    "    [0.0, 0.0, 0.0, 0.0, 0.0, 0.0]\n",
    ").astype(\"float32\")\n",
    "trk_hdr[\"endianness\"] = \"<\"\n",
    "trk_hdr[\"_offset_data\"] = 1000\n",
    "trk_hdr[\"nb_streamlines\"] = streamlines.total_nb_rows\n",
    "tractogram = nib.streamlines.Tractogram(streamlines, affine_to_rasmm=trk_affine)\n",
    "trkfile = nib.streamlines.trk.TrkFile(tractogram, header=trk_hdr)\n",
    "nib.streamlines.save(trkfile, streams)\n",
    "print(\n",
    "    \"%s%s%s\"\n",
    "    % (\n",
    "        \"Tractography runtime: \",\n",
    "        str(np.round(time.time() - start_time, 1)),\n",
    "        \"s\",\n",
    "    )\n",
    ")\n",
    "print('DONE')"
   ]
  },
  {
   "cell_type": "markdown",
   "metadata": {},
   "source": [
    "## Connectome Estimation"
   ]
  },
  {
   "cell_type": "code",
   "execution_count": 8,
   "metadata": {},
   "outputs": [
    {
     "name": "stdout",
     "output_type": "stream",
     "text": [
      "Generating graph for /ndmg_atlases/atlases/label/Human/desikan_space-MNI152NLin6_res-2x2x2.nii.gz parcellation...\n",
      "Applying native-space alignment to /ndmg_atlases/atlases/label/Human/desikan_space-MNI152NLin6_res-2x2x2.nii.gz\n",
      "Reorienting /ndmg_atlases/atlases/label/Human/desikan_space-MNI152NLin6_res-2x2x2.nii.gz to RAS+...\n",
      "Reslicing image /mnt/labbook/output/untracked/anat/preproc/desikan_space-MNI152NLin6_res-2x2x2_reor_RAS.nii.gz to 2mm...\n",
      "flirt -in /mnt/labbook/output/untracked/anat/preproc/desikan_space-MNI152NLin6_res-2x2x2_reor_RAS_nores.nii.gz -ref /mnt/labbook/output/untracked/anat/preproc/t1w_aligned_mni.nii.gz -out /mnt/labbook/output/untracked/tmp/reg_a/desikan_space-MNI152NLin6_res-2x2x2_reor_RAS_nores_aligned_atlas_t1w_mni.nii.gz -dof 12 -bins 256 -interp nearestneighbour -cost mutualinfo -searchrx -180 180 -searchry -180 180 -searchrz -180 180\n",
      "applywarp --ref=/mnt/labbook/output/untracked/anat/preproc/t1w_brain_nores.nii.gz --in=/mnt/labbook/output/untracked/tmp/reg_a/desikan_space-MNI152NLin6_res-2x2x2_reor_RAS_nores_aligned_atlas_t1w_mni.nii.gz --out=/mnt/labbook/output/untracked/tmp/reg_a/desikan_space-MNI152NLin6_res-2x2x2_reor_RAS_nores_aligned_atlas_skull.nii.gz --warp=/mnt/labbook/output/untracked/tmp/reg_a/mni2t1w_warp.nii.gz --interp=nn --super --superlevel=a\n",
      "flirt -in /mnt/labbook/output/untracked/tmp/reg_a/desikan_space-MNI152NLin6_res-2x2x2_reor_RAS_nores_aligned_atlas_skull.nii.gz -ref /mnt/labbook/output/untracked/dwi/preproc/nodif_B0.nii.gz -out /mnt/labbook/output/untracked/anat/registered/desikan_space-MNI152NLin6_res-2x2x2_reor_RAS_nores_aligned_atlas.nii.gz -dof 6 -bins 256 -interp nearestneighbour -cost mutualinfo -searchrx -180 180 -searchry -180 180 -searchrz -180 180 -init /mnt/labbook/output/untracked/tmp/reg_m/t1wtissue2dwi_xfm.mat\n",
      "Building connectivity matrix...\n",
      "# of Streamlines: 37897\n",
      "{'name': '()_with_int_labels', 'ecount': 1549}\n",
      "Total execution time: 144.5\n",
      "NDMG Complete.\n"
     ]
    }
   ],
   "source": [
    "# Generate graphs from streamlines for each parcellation\n",
    "start_time = time.time()\n",
    "for idx, label in enumerate(labels):\n",
    "    print(f\"Generating graph for {label} parcellation...\")\n",
    "    \n",
    "    # align atlas to t1w to dwi\n",
    "    print(\"%s%s\" % (\"Applying native-space alignment to \", labels[idx]))\n",
    "    labels_im_file = mgu.reorient_img(labels[idx], namer)\n",
    "    labels_im_file = mgu.match_target_vox_res(\n",
    "        labels_im_file, vox_size, namer, sens=\"t1w\"\n",
    "    )\n",
    "    labels_im_file_dwi = reg.atlas2t1w2dwi_align(labels_im_file, dsn=False)\n",
    "    labels_im = nib.load(labels_im_file_dwi)\n",
    "    g1 = mgg.graph_tools(\n",
    "        attr=len(np.unique(labels_im.get_data().astype(\"int\"))) - 1,\n",
    "        rois=labels_im_file_dwi,\n",
    "        tracks=streamlines,\n",
    "        affine=np.eye(4),\n",
    "        namer=namer,\n",
    "        connectome_path=connectomes[idx],\n",
    "    )\n",
    "    g1.g = g1.make_graph()\n",
    "    g1.save_graph(connectomes[idx])\n",
    "print(\"Total execution time: {}\".format(str(np.round(time.time() - start_time, 1))))\n",
    "print(\"NDMG Complete.\")"
   ]
  },
  {
   "cell_type": "markdown",
   "metadata": {},
   "source": [
    "## Graphing Outputs"
   ]
  },
  {
   "cell_type": "code",
   "execution_count": 11,
   "metadata": {},
   "outputs": [
    {
     "data": {
      "image/png": "[encoded data removed]",
      "text/plain": [
       "<Figure size 720x720 with 2 Axes>"
      ]
     },
     "metadata": {
      "needs_background": "light"
     },
     "output_type": "display_data"
    }
   ],
   "source": [
    "%matplotlib inline\n",
    "\n",
    "import matplotlib\n",
    "import numpy as np\n",
    "import networkx as nx \n",
    "import matplotlib.pyplot as plt\n",
    "from graspy.utils import ptr\n",
    "from graspy.plot import heatmap\n",
    "\n",
    "def plot_graph(g):\n",
    "    heatmap(g)\n",
    "    plt.show()\n",
    "\n",
    "mat = ptr.pass_to_ranks(np.array(nx.to_numpy_matrix(g1.g)))\n",
    "plot_graph(mat)"
   ]
  },
  {
   "cell_type": "code",
   "execution_count": 12,
   "metadata": {},
   "outputs": [
    {
     "data": {
      "image/png": "[encoded data removed]",
      "text/plain": [
       "<Figure size 720x720 with 2 Axes>"
      ]
     },
     "metadata": {
      "needs_background": "light"
     },
     "output_type": "display_data"
    },
    {
     "data": {
      "image/png": "[encoded data removed]",
      "text/plain": [
       "<Figure size 720x720 with 2 Axes>"
      ]
     },
     "metadata": {
      "needs_background": "light"
     },
     "output_type": "display_data"
    }
   ],
   "source": [
    "quad_2 = mat[:35, 35:]\n",
    "np.diagonal(quad_2)\n",
    "plot_graph(quad_2)\n",
    "\n",
    "\n",
    "quad_3 = mat[35:, :35]\n",
    "np.diagonal(quad_3)\n",
    "plot_graph(quad_3)"
   ]
  },
  {
   "cell_type": "code",
   "execution_count": 13,
   "metadata": {},
   "outputs": [
    {
     "data": {
      "text/plain": [
       "0.6857142857142857"
      ]
     },
     "execution_count": 13,
     "metadata": {},
     "output_type": "execute_result"
    }
   ],
   "source": [
    "np.sum(np.diagonal(quad_2) > 0)/np.sum(np.ones(len(quad_2)))"
   ]
  },
  {
   "cell_type": "code",
   "execution_count": 14,
   "metadata": {},
   "outputs": [
    {
     "data": {
      "text/plain": [
       "0.6857142857142857"
      ]
     },
     "execution_count": 14,
     "metadata": {},
     "output_type": "execute_result"
    }
   ],
   "source": [
    "np.sum(np.diagonal(quad_3) > 0)/np.sum(np.ones(len(quad_3)))"
   ]
  }
 ],
 "metadata": {
  "kernelspec": {
   "display_name": "Python 3",
   "language": "python",
   "name": "python3"
  },
  "language_info": {
   "codemirror_mode": {
    "name": "ipython",
    "version": 3
   },
   "file_extension": ".py",
   "mimetype": "text/x-python",
   "name": "python",
   "nbconvert_exporter": "python",
   "pygments_lexer": "ipython3",
   "version": "3.7.3"
  }
 },
 "nbformat": 4,
 "nbformat_minor": 4
}
