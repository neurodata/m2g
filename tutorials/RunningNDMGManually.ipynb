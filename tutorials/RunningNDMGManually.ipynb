{
 "cells": [
  {
   "cell_type": "code",
   "execution_count": 10,
   "metadata": {},
   "outputs": [],
   "source": [
    "import os\n",
    "import os.path as op\n",
    "import glob\n",
    "from pathlib2 import Path\n",
    "from ndmg.scripts import ndmg_dwi_pipeline\n",
    "from ndmg.utils import s3_utils"
   ]
  },
  {
   "cell_type": "code",
   "execution_count": 12,
   "metadata": {},
   "outputs": [
    {
     "name": "stdout",
     "output_type": "stream",
     "text": [
      "dwi = /Users/derekpisner/.ndmg/HNU1t/sub-0025427/ses-1/dwi/sub-0025427_ses-1_dwi.nii.gz\n",
      "bvals = /Users/derekpisner/.ndmg/HNU1t/sub-0025427/ses-1/dwi/sub-0025427_ses-1_dwi.bval\n",
      "bvecs = /Users/derekpisner/.ndmg/HNU1t/sub-0025427/ses-1/dwi/sub-0025427_ses-1_dwi.bvec\n",
      "t1w = /Users/derekpisner/.ndmg/HNU1t/sub-0025427/ses-1/anat/sub-0025427_ses-1_T1w.nii.gz\n",
      "atlas = desikan\n",
      "mask = /Users/derekpisner/.ndmg/ndmg_atlases/atlases/mask/MNI152NLin6_res-2x2x2_T1w_descr-brainmask.nii.gz\n",
      "labels = ['/Users/derekpisner/.ndmg/ndmg_atlases/atlases/label/Human/desikan_space-MNI152NLin6_res-2x2x2.nii.gz']\n",
      "outdir = /tmp/output_desikan_det_local_csd_native\n",
      "vox_size = 2mm\n",
      "mod_type = det\n",
      "track_type = local\n",
      "mod_func = csd\n",
      "reg_style = native\n",
      "clean = False\n",
      "skip eddy = False\n",
      "Output directory: /tmp/output_desikan_det_local_csd_native\n",
      "Adding directory tree...\n",
     ]
    }
   ],
   "source": [
    "# Download test data\n",
    "data_dir = op.expanduser(\"~\") + \"/.ndmg/HNU1t\"\n",
    "if not op.isdir(data_dir):\n",
    "    os.mkdir(data_dir)\n",
    "    s3_utils.s3_get_data('ndmg-data', 'HNU1t', data_dir, force=True)\n",
    "\n",
    "# Specify base directory and paths to input files (dwi, bvecs, bvals, and t1w required)\n",
    "t1w = data_dir + '/sub-0025427/ses-1/anat/sub-0025427_ses-1_T1w.nii.gz'\n",
    "bvals = data_dir + '/sub-0025427/ses-1/dwi/sub-0025427_ses-1_dwi.bval'\n",
    "bvecs = data_dir + '/sub-0025427/ses-1/dwi/sub-0025427_ses-1_dwi.bvec'\n",
    "dwi = data_dir + '/sub-0025427/ses-1/dwi/sub-0025427_ses-1_dwi.nii.gz'\n",
    "\n",
    "###USER-SPECIFIED PARAMETERS###\n",
    "# Specify NDMG run parameters\n",
    "## CHOICES:\n",
    "## atlases = ['desikan', 'CPAC200', 'DKT', 'HarvardOxfordcort', 'HarvardOxfordsub', 'JHU', 'Schaefer2018-200', 'Talairach', 'aal', 'brodmann', 'glasser', 'yeo-7-liberal', 'yeo-17-liberal']\n",
    "## mod_types = ['det', 'prob']\n",
    "## track_types = ['local', 'particle']\n",
    "## mods = ['csa', 'csd']\n",
    "## regs = ['native', 'native_dsn', 'mni']\n",
    "## vox_size = ['1mm', '2mm']\n",
    "\n",
    "# Select an atlas\n",
    "atlas = 'desikan'\n",
    "mod_type = 'det'\n",
    "track_type = 'local'\n",
    "mod_func = 'csd'\n",
    "reg_style = 'native'\n",
    "vox_size = '2mm'\n",
    "\n",
    "# Set an output directory\n",
    "outdir = '/tmp/output_{}_{}_{}_{}_{}'.format(atlas, mod_type, track_type, mod_func, reg_style)\n",
    "###############################\n",
    "# Download neuroparc files\n",
    "atlas_dir = op.expanduser(\"~\") + \"/.ndmg/ndmg_atlases\"\n",
    "    \n",
    "# Auto-set paths to neuroparc files\n",
    "mask = str(Path.home()) + '/.ndmg/ndmg_atlases/atlases/mask/MNI152NLin6_res-2x2x2_T1w_descr-brainmask.nii.gz'\n",
    "labels = [i for i in glob.glob(str(Path.home()) + '/.ndmg/ndmg_atlases/atlases/label/Human/*2x2x2.nii.gz') if atlas in i]\n",
    "\n",
    "# Run pipeline\n",
    "ndmg_dwi_pipeline.ndmg_dwi_worker(dwi, bvals, bvecs, t1w, atlas, mask, labels, outdir, vox_size, mod_type, track_type, mod_func, reg_style, clean=False, skipeddy=False)\n"
   ]
  },
  {
   "cell_type": "code",
   "execution_count": null,
   "metadata": {},
   "outputs": [],
   "source": []
  }
 ],
 "metadata": {
  "kernelspec": {
   "display_name": "Python 3",
   "language": "python",
   "name": "python3"
  },
  "language_info": {
   "codemirror_mode": {
    "name": "ipython",
    "version": 3
   },
   "file_extension": ".py",
   "mimetype": "text/x-python",
   "name": "python",
   "nbconvert_exporter": "python",
   "pygments_lexer": "ipython3",
   "version": "3.7.3"
  }
 },
 "nbformat": 4,
 "nbformat_minor": 2
}
