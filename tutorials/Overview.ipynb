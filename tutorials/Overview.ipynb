{
 "cells": [
  {
   "cell_type": "markdown",
   "metadata": {},
   "source": [
    "# Ndmg Tutorial: Running Inside Python"
   ]
  },
  {
   "cell_type": "markdown",
   "metadata": {},
   "source": [
    "This tutorial provides a basic overview of how to run ndmg manually within Python. <br>\n",
    "We begin by checking for dependencies,\n",
    "then we set our input parameters,\n",
    "then we smiply run the pipeline.\n",
    "\n",
    "Running the pipeline is quite simple: call `ndmg_dwi_pipeline.ndmg_dwi_worker` with the correct arguments. <br>\n",
    "\n",
    "\n",
    "Note that, although you can run the pipeline in Python, the absolute easiest way (outside Gigantum) is to run the pipeline from the command line once all dependencies are installed using the following command: <br>\n",
    "`ndmg_bids </absolute/input/dir> </absolute/output/dir>`. <br>\n",
    "This will run a single session from the input directory, and output the results into your output directory.\n",
    "\n",
    "But for now, let's look at running in Python -- <br>\n",
    "Let's begin!"
   ]
  },
  {
   "cell_type": "code",
   "execution_count": 11,
   "metadata": {},
   "outputs": [],
   "source": [
    "import os\n",
    "import os.path as op\n",
    "import glob\n",
    "import shutil\n",
    "import warnings\n",
    "import subprocess\n",
    "from pathlib import Path\n",
    "\n",
    "from ndmg.scripts import ndmg_dwi_pipeline\n",
    "from ndmg.scripts.ndmg_bids import get_atlas\n",
    "from ndmg.utils import s3_utils"
   ]
  },
  {
   "cell_type": "markdown",
   "metadata": {},
   "source": [
    "## Check for dependencies, Set Directories"
   ]
  },
  {
   "cell_type": "markdown",
   "metadata": {},
   "source": [
    "The below code is a simple check that makes sure AFNI and FSL are installed. <br>\n",
    "We also set the input, data, and atlas paths."
   ]
  },
  {
   "cell_type": "markdown",
   "metadata": {},
   "source": [
    "#### Make sure that AFNI and FSL are installed"
   ]
  },
  {
   "cell_type": "code",
   "execution_count": 12,
   "metadata": {},
   "outputs": [
    {
     "name": "stdout",
     "output_type": "stream",
     "text": [
      "Your fsl directory is located here: /usr/local/fsl\n",
      "Your AFNI directory is located here: /Users/alex/abin/afni\n",
      "\n"
     ]
    }
   ],
   "source": [
    "# FSL\n",
    "try:\n",
    "    print(f\"Your fsl directory is located here: {os.environ['FSLDIR']}\")\n",
    "except KeyError:\n",
    "    raise AssertionError(\"You do not have FSL installed! See installation instructions here: https://fsl.fmrib.ox.ac.uk/fsl/fslwiki/FslInstallation\")\n",
    "    \n",
    "# AFNI\n",
    "try:\n",
    "    print(f\"Your AFNI directory is located here: {subprocess.check_output('which afni', shell=True, universal_newlines=True)}\")\n",
    "except subprocess.CalledProcessError:\n",
    "    raise AssertionError(\"You do not have AFNI installed! See installation instructions here: https://afni.nimh.nih.gov/pub/dist/doc/htmldoc/background_install/main_toc.html\")"
   ]
  },
  {
   "cell_type": "markdown",
   "metadata": {},
   "source": [
    "#### Set Input, Output, and Atlas Locations"
   ]
  },
  {
   "cell_type": "markdown",
   "metadata": {},
   "source": [
    "Here, you set:\n",
    "1. the input_dir - this is where your input data lives.\n",
    "2. the out_dir - this is where your output data will go."
   ]
  },
  {
   "cell_type": "code",
   "execution_count": 21,
   "metadata": {},
   "outputs": [
    {
     "name": "stdout",
     "output_type": "stream",
     "text": [
      "Your input and output directory will be : /Users/alex/.ndmg/input and /Users/alex/.ndmg/output\n"
     ]
    }
   ],
   "source": [
    "# get atlases\n",
    "ndmg_dir = Path.home() / \".ndmg\"\n",
    "atlas_dir = ndmg_dir / \"ndmg_atlases\"\n",
    "get_atlas(str(atlas_dir), \"2mm\")\n",
    "\n",
    "# These\n",
    "input_dir = ndmg_dir / \"input\"\n",
    "out_dir = ndmg_dir / \"output\"\n",
    "\n",
    "print(f\"Your input and output directory will be : {input_dir} and {out_dir}\")\n",
    "\n",
    "assert op.exists(input_dir), f\"You must have an input directory with data. Your input directory is located here: {input_dir}\""
   ]
  },
  {
   "cell_type": "markdown",
   "metadata": {},
   "source": [
    "## Choose input parameters"
   ]
  },
  {
   "cell_type": "markdown",
   "metadata": {},
   "source": [
    "#### Naming Conventions\n",
    "Here, we define input variables to the pipeline.\n",
    "To run the `ndmg` pipeline, you need four files:\n",
    "1. a `t1w` - this is a high-resolution anatomical image.\n",
    "2. a `dwi` - the diffusion image.\n",
    "3. bvecs - this is a text file that defines the gradient vectors created by a DWI scan.\n",
    "4. bvals - this is a text file that defines magnitudes for the gradient vectors created by a DWI scan.\n",
    "\n",
    "The naming convention is in the [BIDs](https://bids.neuroimaging.io/) spec."
   ]
  },
  {
   "cell_type": "code",
   "execution_count": 23,
   "metadata": {},
   "outputs": [
    {
     "name": "stdout",
     "output_type": "stream",
     "text": [
      "Your anatomical image location: /Users/alex/.ndmg/input/sub-0025864/ses-1/anat/sub-0025864_ses-1_T1w.nii.gz\n",
      "Your dwi image location: /Users/alex/.ndmg/input/sub-0025864/ses-1/dwi/sub-0025864_ses-1_dwi.nii.gz\n",
      "Your bvector location: /Users/alex/.ndmg/input/sub-0025864/ses-1/dwi/sub-0025864_ses-1_dwi.bvec\n",
      "Your bvalue location: /Users/alex/.ndmg/input/sub-0025864/ses-1/dwi/sub-0025864_ses-1_dwi.bval\n"
     ]
    }
   ],
   "source": [
    "# Specify base directory and paths to input files (dwi, bvecs, bvals, and t1w required)\n",
    "subject_id = 'sub-0025864'\n",
    "\n",
    "# Define the location of our input files.\n",
    "t1w = str(input_dir / f\"{subject_id}/ses-1/anat/{subject_id}_ses-1_T1w.nii.gz\")\n",
    "dwi = str(input_dir / f\"{subject_id}/ses-1/dwi/{subject_id}_ses-1_dwi.nii.gz\")\n",
    "bvecs = str(input_dir / f\"{subject_id}/ses-1/dwi/{subject_id}_ses-1_dwi.bvec\")\n",
    "bvals = str(input_dir / f\"{subject_id}/ses-1/dwi/{subject_id}_ses-1_dwi.bval\")\n",
    "\n",
    "print(f\"Your anatomical image location: {t1w}\")\n",
    "print(f\"Your dwi image location: {dwi}\")\n",
    "print(f\"Your bvector location: {bvecs}\")\n",
    "print(f\"Your bvalue location: {bvals}\")"
   ]
  },
  {
   "cell_type": "markdown",
   "metadata": {},
   "source": [
    "### Parameter Choices and Output Directory\n",
    "Here, we choose the parameters to run the pipeline with.\n",
    "If you are inexperienced with diffusion MRI theory, feel free to just use the default parameters.\n",
    "\n",
    "- *atlases = ['desikan', 'CPAC200', 'DKT', 'HarvardOxfordcort', 'HarvardOxfordsub', 'JHU', 'Schaefer2018-200', 'Talairach', 'aal', 'brodmann', 'glasser', 'yeo-7-liberal', 'yeo-17-liberal']* : The atlas that defines the node location of the graph you create.\n",
    "- *mod_types = ['det', 'prob']* : Deterministic or probablistic tractography.\n",
    "- *track_types = ['local', 'particle']* : Local or particle tracking.\n",
    "- *mods = ['csa', 'csd']* : [Constant Solid Angle](https://www.ncbi.nlm.nih.gov/pmc/articles/PMC4360965/) or [Constrained Spherical Deconvolution](https://onlinelibrary.wiley.com/doi/10.1002/ima.22005).\n",
    "- regs = *['native', 'native_dsn', 'mni']* : Registration style. If native, do all registration in each scan's space; if mni, register scans to the MNI atlas; if native_dsn, do registration in native space, and then fit the streamlines to MNI space.\n",
    "- vox_size = *['1mm', '2mm']* : Whether our voxels are 1mm or 2mm.\n",
    "- seeds = int : Seeding density for tractography. More seeds generally results in a better graph, but at a much higher computational cost."
   ]
  },
  {
   "cell_type": "code",
   "execution_count": 24,
   "metadata": {},
   "outputs": [],
   "source": [
    "# Use the default parameters.\n",
    "atlas = 'desikan'\n",
    "mod_type = 'prob'\n",
    "track_type = 'local'\n",
    "mod_func = 'csd'\n",
    "reg_style = 'native'\n",
    "vox_size = '2mm'\n",
    "seeds = 1\n"
   ]
  },
  {
   "cell_type": "markdown",
   "metadata": {},
   "source": [
    "#### Get masks and labels\n",
    "The pipeline needs these two variables as input. <br>\n",
    "Running the pipeline via `ndmg_bids` does this for you."
   ]
  },
  {
   "cell_type": "code",
   "execution_count": 25,
   "metadata": {},
   "outputs": [
    {
     "name": "stdout",
     "output_type": "stream",
     "text": [
      "mask location : /Users/alex/.ndmg/ndmg_atlases/atlases/mask/MNI152NLin6_res-2x2x2_T1w_descr-brainmask.nii.gz\n",
      "atlas location : ['/Users/alex/.ndmg/ndmg_atlases/atlases/label/Human/desikan_space-MNI152NLin6_res-2x2x2.nii.gz']\n"
     ]
    }
   ],
   "source": [
    "# Auto-set paths to neuroparc files\n",
    "mask = str(atlas_dir / \"atlases/mask/MNI152NLin6_res-2x2x2_T1w_descr-brainmask.nii.gz\")\n",
    "labels = [str(i) for i in (atlas_dir / \"atlases/label/Human/\").glob(f\"*{atlas}*2x2x2.nii.gz\")]\n",
    "\n",
    "print(f\"mask location : {mask}\")\n",
    "print(f\"atlas location : {labels}\")"
   ]
  },
  {
   "cell_type": "markdown",
   "metadata": {},
   "source": [
    "## Run the pipeline!"
   ]
  },
  {
   "cell_type": "code",
   "execution_count": 28,
   "metadata": {},
   "outputs": [
    {
     "name": "stdout",
     "output_type": "stream",
     "text": [
      "dwi = /Users/alex/.ndmg/input/sub-0025864/ses-1/dwi/sub-0025864_ses-1_dwi.nii.gz\n",
      "bvals = /Users/alex/.ndmg/input/sub-0025864/ses-1/dwi/sub-0025864_ses-1_dwi.bval\n",
      "bvecs = /Users/alex/.ndmg/input/sub-0025864/ses-1/dwi/sub-0025864_ses-1_dwi.bvec\n",
      "t1w = /Users/alex/.ndmg/input/sub-0025864/ses-1/anat/sub-0025864_ses-1_T1w.nii.gz\n",
      "atlas = desikan\n",
      "mask = /Users/alex/.ndmg/ndmg_atlases/atlases/mask/MNI152NLin6_res-2x2x2_T1w_descr-brainmask.nii.gz\n",
      "labels = ['/Users/alex/.ndmg/ndmg_atlases/atlases/label/Human/desikan_space-MNI152NLin6_res-2x2x2.nii.gz']\n",
      "outdir = /Users/alex/.ndmg/output\n",
      "vox_size = 2mm\n",
      "mod_type = prob\n",
      "track_type = local\n",
      "mod_func = csd\n",
      "seeds = 1\n",
      "reg_style = native\n",
      "clean = False\n",
      "skip eddy = True\n",
      "skip registration = True\n",
      "Output directory: /Users/alex/.ndmg/output\n",
      "Adding directory tree...\n",
      "Connectomes downsampled to given labels: /Users/alex/.ndmg/output/dwi/roi-connectomes/desikan_space-MNI152NLin6_res-2x2x2/sub-0025864_ses-1_dwi_desikan_space-MNI152NLin6_res-2x2x2_measure-spatial-ds_adj.csv\n",
      "Performing eddy correction...\n",
      "eddy_correct /Users/alex/.ndmg/input/sub-0025864/ses-1/dwi/sub-0025864_ses-1_dwi.nii.gz /Users/alex/.ndmg/output/dwi/preproc/eddy_corrected_data.nii.gz 0\n"
     ]
    },
    {
     "ename": "KeyboardInterrupt",
     "evalue": "",
     "output_type": "error",
     "traceback": [
      "\u001b[0;31m---------------------------------------------------------------------------\u001b[0m",
      "\u001b[0;31mKeyboardInterrupt\u001b[0m                         Traceback (most recent call last)",
      "\u001b[0;32m<ipython-input-28-f45eb063a997>\u001b[0m in \u001b[0;36m<module>\u001b[0;34m\u001b[0m\n\u001b[0;32m----> 1\u001b[0;31m \u001b[0mndmg_dwi_pipeline\u001b[0m\u001b[0;34m.\u001b[0m\u001b[0mndmg_dwi_worker\u001b[0m\u001b[0;34m(\u001b[0m\u001b[0mdwi\u001b[0m\u001b[0;34m=\u001b[0m\u001b[0mdwi\u001b[0m\u001b[0;34m,\u001b[0m \u001b[0mbvals\u001b[0m\u001b[0;34m=\u001b[0m\u001b[0mbvals\u001b[0m\u001b[0;34m,\u001b[0m \u001b[0mbvecs\u001b[0m\u001b[0;34m=\u001b[0m\u001b[0mbvecs\u001b[0m\u001b[0;34m,\u001b[0m \u001b[0mt1w\u001b[0m\u001b[0;34m=\u001b[0m\u001b[0mt1w\u001b[0m\u001b[0;34m,\u001b[0m \u001b[0matlas\u001b[0m\u001b[0;34m=\u001b[0m\u001b[0matlas\u001b[0m\u001b[0;34m,\u001b[0m \u001b[0mmask\u001b[0m\u001b[0;34m=\u001b[0m\u001b[0mmask\u001b[0m\u001b[0;34m,\u001b[0m \u001b[0mlabels\u001b[0m\u001b[0;34m=\u001b[0m\u001b[0mlabels\u001b[0m\u001b[0;34m,\u001b[0m \u001b[0moutdir\u001b[0m\u001b[0;34m=\u001b[0m\u001b[0mstr\u001b[0m\u001b[0;34m(\u001b[0m\u001b[0mout_dir\u001b[0m\u001b[0;34m)\u001b[0m\u001b[0;34m,\u001b[0m \u001b[0mvox_size\u001b[0m\u001b[0;34m=\u001b[0m\u001b[0mvox_size\u001b[0m\u001b[0;34m,\u001b[0m \u001b[0mmod_type\u001b[0m\u001b[0;34m=\u001b[0m\u001b[0mmod_type\u001b[0m\u001b[0;34m,\u001b[0m \u001b[0mtrack_type\u001b[0m\u001b[0;34m=\u001b[0m\u001b[0mtrack_type\u001b[0m\u001b[0;34m,\u001b[0m \u001b[0mmod_func\u001b[0m\u001b[0;34m=\u001b[0m\u001b[0mmod_func\u001b[0m\u001b[0;34m,\u001b[0m \u001b[0mseeds\u001b[0m\u001b[0;34m=\u001b[0m\u001b[0mseeds\u001b[0m\u001b[0;34m,\u001b[0m \u001b[0mreg_style\u001b[0m\u001b[0;34m=\u001b[0m\u001b[0mreg_style\u001b[0m\u001b[0;34m,\u001b[0m \u001b[0mclean\u001b[0m\u001b[0;34m=\u001b[0m\u001b[0;32mFalse\u001b[0m\u001b[0;34m,\u001b[0m \u001b[0mskipeddy\u001b[0m\u001b[0;34m=\u001b[0m\u001b[0;32mTrue\u001b[0m\u001b[0;34m,\u001b[0m \u001b[0mskipreg\u001b[0m\u001b[0;34m=\u001b[0m\u001b[0;32mTrue\u001b[0m\u001b[0;34m)\u001b[0m\u001b[0;34m\u001b[0m\u001b[0;34m\u001b[0m\u001b[0m\n\u001b[0m",
      "\u001b[0;32m~/Dropbox/NeuroData/ndmg-top/ndmg/ndmg/scripts/ndmg_dwi_pipeline.py\u001b[0m in \u001b[0;36mndmg_dwi_worker\u001b[0;34m(dwi, bvals, bvecs, t1w, atlas, mask, labels, outdir, vox_size, mod_type, track_type, mod_func, seeds, reg_style, clean, skipeddy, skipreg, buck, remo, push, creds, debug, modif)\u001b[0m\n\u001b[1;32m    242\u001b[0m         \u001b[0mcmd\u001b[0m \u001b[0;34m=\u001b[0m \u001b[0;34m\"eddy_correct \"\u001b[0m \u001b[0;34m+\u001b[0m \u001b[0mdwi\u001b[0m \u001b[0;34m+\u001b[0m \u001b[0;34m\" \"\u001b[0m \u001b[0;34m+\u001b[0m \u001b[0mdwi_prep\u001b[0m \u001b[0;34m+\u001b[0m \u001b[0;34m\" 0\"\u001b[0m\u001b[0;34m\u001b[0m\u001b[0;34m\u001b[0m\u001b[0m\n\u001b[1;32m    243\u001b[0m         \u001b[0mprint\u001b[0m\u001b[0;34m(\u001b[0m\u001b[0mcmd\u001b[0m\u001b[0;34m)\u001b[0m\u001b[0;34m\u001b[0m\u001b[0;34m\u001b[0m\u001b[0m\n\u001b[0;32m--> 244\u001b[0;31m         \u001b[0msts\u001b[0m \u001b[0;34m=\u001b[0m \u001b[0mPopen\u001b[0m\u001b[0;34m(\u001b[0m\u001b[0mcmd\u001b[0m\u001b[0;34m,\u001b[0m \u001b[0mshell\u001b[0m\u001b[0;34m=\u001b[0m\u001b[0;32mTrue\u001b[0m\u001b[0;34m)\u001b[0m\u001b[0;34m.\u001b[0m\u001b[0mwait\u001b[0m\u001b[0;34m(\u001b[0m\u001b[0;34m)\u001b[0m\u001b[0;34m\u001b[0m\u001b[0;34m\u001b[0m\u001b[0m\n\u001b[0m\u001b[1;32m    245\u001b[0m         \u001b[0mprint\u001b[0m\u001b[0;34m(\u001b[0m\u001b[0msts\u001b[0m\u001b[0;34m)\u001b[0m\u001b[0;34m\u001b[0m\u001b[0;34m\u001b[0m\u001b[0m\n\u001b[1;32m    246\u001b[0m         \u001b[0mts\u001b[0m \u001b[0;34m=\u001b[0m \u001b[0mtime\u001b[0m\u001b[0;34m.\u001b[0m\u001b[0mtime\u001b[0m\u001b[0;34m(\u001b[0m\u001b[0;34m)\u001b[0m\u001b[0;34m\u001b[0m\u001b[0;34m\u001b[0m\u001b[0m\n",
      "\u001b[0;32m/usr/local/Caskroom/miniconda/base/envs/ndmg/lib/python3.6/subprocess.py\u001b[0m in \u001b[0;36mwait\u001b[0;34m(self, timeout, endtime)\u001b[0m\n\u001b[1;32m   1475\u001b[0m                         \u001b[0;32mif\u001b[0m \u001b[0mself\u001b[0m\u001b[0;34m.\u001b[0m\u001b[0mreturncode\u001b[0m \u001b[0;32mis\u001b[0m \u001b[0;32mnot\u001b[0m \u001b[0;32mNone\u001b[0m\u001b[0;34m:\u001b[0m\u001b[0;34m\u001b[0m\u001b[0;34m\u001b[0m\u001b[0m\n\u001b[1;32m   1476\u001b[0m                             \u001b[0;32mbreak\u001b[0m  \u001b[0;31m# Another thread waited.\u001b[0m\u001b[0;34m\u001b[0m\u001b[0;34m\u001b[0m\u001b[0m\n\u001b[0;32m-> 1477\u001b[0;31m                         \u001b[0;34m(\u001b[0m\u001b[0mpid\u001b[0m\u001b[0;34m,\u001b[0m \u001b[0msts\u001b[0m\u001b[0;34m)\u001b[0m \u001b[0;34m=\u001b[0m \u001b[0mself\u001b[0m\u001b[0;34m.\u001b[0m\u001b[0m_try_wait\u001b[0m\u001b[0;34m(\u001b[0m\u001b[0;36m0\u001b[0m\u001b[0;34m)\u001b[0m\u001b[0;34m\u001b[0m\u001b[0;34m\u001b[0m\u001b[0m\n\u001b[0m\u001b[1;32m   1478\u001b[0m                         \u001b[0;31m# Check the pid and loop as waitpid has been known to\u001b[0m\u001b[0;34m\u001b[0m\u001b[0;34m\u001b[0m\u001b[0;34m\u001b[0m\u001b[0m\n\u001b[1;32m   1479\u001b[0m                         \u001b[0;31m# return 0 even without WNOHANG in odd situations.\u001b[0m\u001b[0;34m\u001b[0m\u001b[0;34m\u001b[0m\u001b[0;34m\u001b[0m\u001b[0m\n",
      "\u001b[0;32m/usr/local/Caskroom/miniconda/base/envs/ndmg/lib/python3.6/subprocess.py\u001b[0m in \u001b[0;36m_try_wait\u001b[0;34m(self, wait_flags)\u001b[0m\n\u001b[1;32m   1422\u001b[0m             \u001b[0;34m\"\"\"All callers to this function MUST hold self._waitpid_lock.\"\"\"\u001b[0m\u001b[0;34m\u001b[0m\u001b[0;34m\u001b[0m\u001b[0m\n\u001b[1;32m   1423\u001b[0m             \u001b[0;32mtry\u001b[0m\u001b[0;34m:\u001b[0m\u001b[0;34m\u001b[0m\u001b[0;34m\u001b[0m\u001b[0m\n\u001b[0;32m-> 1424\u001b[0;31m                 \u001b[0;34m(\u001b[0m\u001b[0mpid\u001b[0m\u001b[0;34m,\u001b[0m \u001b[0msts\u001b[0m\u001b[0;34m)\u001b[0m \u001b[0;34m=\u001b[0m \u001b[0mos\u001b[0m\u001b[0;34m.\u001b[0m\u001b[0mwaitpid\u001b[0m\u001b[0;34m(\u001b[0m\u001b[0mself\u001b[0m\u001b[0;34m.\u001b[0m\u001b[0mpid\u001b[0m\u001b[0;34m,\u001b[0m \u001b[0mwait_flags\u001b[0m\u001b[0;34m)\u001b[0m\u001b[0;34m\u001b[0m\u001b[0;34m\u001b[0m\u001b[0m\n\u001b[0m\u001b[1;32m   1425\u001b[0m             \u001b[0;32mexcept\u001b[0m \u001b[0mChildProcessError\u001b[0m\u001b[0;34m:\u001b[0m\u001b[0;34m\u001b[0m\u001b[0;34m\u001b[0m\u001b[0m\n\u001b[1;32m   1426\u001b[0m                 \u001b[0;31m# This happens if SIGCLD is set to be ignored or waiting\u001b[0m\u001b[0;34m\u001b[0m\u001b[0;34m\u001b[0m\u001b[0;34m\u001b[0m\u001b[0m\n",
      "\u001b[0;31mKeyboardInterrupt\u001b[0m: "
     ]
    }
   ],
   "source": [
    "ndmg_dwi_pipeline.ndmg_dwi_worker(dwi=dwi, bvals=bvals, bvecs=bvecs, t1w=t1w, atlas=atlas, mask=mask, labels=labels, outdir=str(out_dir), vox_size=vox_size, mod_type=mod_type, track_type=track_type, mod_func=mod_func, seeds=seeds, reg_style=reg_style, clean=False, skipeddy=True, skipreg=True)"
   ]
  },
  {
   "cell_type": "markdown",
   "metadata": {},
   "source": [
    "# Try It Yourself : Command Line"
   ]
  },
  {
   "cell_type": "markdown",
   "metadata": {},
   "source": [
    "`ndmg` runs best as a standalone program on the command line.\n",
    "\n",
    "The simplest form of the command, given that you have input data, pass an output folder, and have all dependencies installed, is the following:\n",
    "    \n",
    "    ndmg_bids </absolute/input/dir> </absolute/output/dir>\n",
    "    \n",
    "Here, we'll show you how to set this up yourself."
   ]
  },
  {
   "cell_type": "markdown",
   "metadata": {},
   "source": [
    "## Setup: Running Locally"
   ]
  },
  {
   "cell_type": "markdown",
   "metadata": {},
   "source": [
    "1. install [FSL](https://fsl.fmrib.ox.ac.uk/fsl/fslwiki/FslInstallation)\n",
    "2. install [AFNI](https://afni.nimh.nih.gov/pub/dist/doc/htmldoc/background_install/install_instructs/index.html)\n",
    "3. `git clone https://github.com/neurodata/ndmg.git`\n",
    "4. `cd ndmg`\n",
    "5. `pip install -r requirements.txt`\n",
    "6. `pip install .`"
   ]
  },
  {
   "cell_type": "markdown",
   "metadata": {},
   "source": [
    "## Running Locally"
   ]
  },
  {
   "cell_type": "markdown",
   "metadata": {},
   "source": [
    "### Most Basic"
   ]
  },
  {
   "cell_type": "markdown",
   "metadata": {},
   "source": [
    "This will run the first session from your input dataset, and put the results into the output dataset.\n",
    "We still recommend the `--atlas` flag so that graphs don't get generated on all possible atlases.\n",
    "\n",
    "    ndmg_bids --atlas desikan </absolute/input/dir> </absolute/output/dir>"
   ]
  },
  {
   "cell_type": "markdown",
   "metadata": {},
   "source": [
    "### Specifying Participant and Session\n",
    "\n",
    "You can also specify a particular participant and session.\n",
    "(This is extremely useful for setting up batch scripts to run large datasets).\n",
    "\n",
    "    ndmg_bids --atlas desikan --participant_label <label> --session_label <number> </absolute/input/dir> </absolute/output/dir>"
   ]
  },
  {
   "cell_type": "markdown",
   "metadata": {},
   "source": [
    "### Different Registration Styles, Diffusion Models, Tractography Styles"
   ]
  },
  {
   "cell_type": "markdown",
   "metadata": {},
   "source": [
    "You can use:\n",
    "- the `--sp` flag to set the registration space;\n",
    "- the `--mf` flag to set the diffusion model; and\n",
    "- the `--mod` flag to set deterministic / probablistic tracking;\n",
    "\n",
    "\n",
    "    ndmg_bids --atlas desikan --sp <space> --mf <model> --mod <tracking style> </absolute/input/dir> </absolute/output/dir>"
   ]
  },
  {
   "cell_type": "markdown",
   "metadata": {},
   "source": [
    "## Setup: Running in Docker"
   ]
  },
  {
   "cell_type": "markdown",
   "metadata": {},
   "source": [
    "If you're having problems installing the program locally, it's often easier to use Docker.\n",
    "\n",
    "1. install [docker](https://docs.docker.com/install/)\n",
    "2. `docker pull neurodata/ndmg_dev:latest`"
   ]
  },
  {
   "cell_type": "markdown",
   "metadata": {},
   "source": [
    "## Running in Docker"
   ]
  },
  {
   "cell_type": "markdown",
   "metadata": {},
   "source": [
    "### Option A (Docker executable approach):\n",
    "Once you've downloaded the docker image, you can:\n",
    "Attach your local input and output folders with `-v`, <br>\n",
    "Run the image, <br>\n",
    "and input your participant and session labels into the container.\n",
    "\n",
    "    docker run -ti --rm --privileged -e DISPLAY=$DISPLAY -v <absolute/path/to/input/data>:/input -v <absolute/path/to/output/data>:/outputs neurodata/ndmg_dev:latest --participant_label <label> --session_label <number> --atlas desikan /input /output"
   ]
  },
  {
   "cell_type": "markdown",
   "metadata": {},
   "source": [
    "### Option B (Inside Docker container):\n",
    "\n",
    "You can also enter the container yourself and then run `ndmg` from inside the container.\n",
    "\n",
    "    docker run -ti --rm --privileged --entrypoint /bin/bash -e DISPLAY=$DISPLAY -v <absolute/path/to/input/data>/input -v <absolute/path/to/output/data>/output ndmg_dev:latest\n",
    "\n",
    "    ndmg_bids --participant_label <label> --session_label <number> --atlas desikan /input /output"
   ]
  }
 ],
 "metadata": {
  "kernelspec": {
   "display_name": "ndmg",
   "language": "python",
   "name": "ndmg"
  },
  "language_info": {
   "codemirror_mode": {
    "name": "ipython",
    "version": 3
   },
   "file_extension": ".py",
   "mimetype": "text/x-python",
   "name": "python",
   "nbconvert_exporter": "python",
   "pygments_lexer": "ipython3",
   "version": "3.6.8"
  }
 },
 "nbformat": 4,
 "nbformat_minor": 4
}
