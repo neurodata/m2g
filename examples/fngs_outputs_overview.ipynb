{
 "cells": [
  {
   "cell_type": "markdown",
   "metadata": {},
   "source": [
    "## Outputs\n",
    "\n",
    "In this tutorial, we will go over the basic outputs produced by FNGS, explain their significance, and introduce some of the quality control metrics that are of immediate use. In another tutorial, we will do an exhaustive analysis of the quality control specifically.\n",
    "\n",
    "The FNGS Pipeline produces the following derivative organization:"
   ]
  },
  {
   "cell_type": "markdown",
   "metadata": {},
   "source": [
    "    +-- /outputs/\n",
    "    |    +------ graphs/\n",
    "    |    +------ motion_fmri/\n",
    "    |    +------ nuis_fmri/\n",
    "    |    +------ preproc_fmri/\n",
    "    |    +------ qc/\n",
    "    |    +------ reg_fmri/\n",
    "    |    +------ reg_struct/\n",
    "    |    +------ roi_timeseries/\n",
    "    |    +------ tmp/\n",
    "    |    +------ voxel_timeseries/"
   ]
  },
  {
   "cell_type": "markdown",
   "metadata": {},
   "source": [
    "## Motion fMRI\n",
    "\n",
    "    +-- /motion_fmri/\n",
    "    |    +---------- subject1_motion_corrected.nii.gz\n",
    "    |    +---------- subject2_motion_corrected.nii.gz\n",
    "    ...\n",
    "    \n",
    "In this output directory, we store the motion corrected fMRI nifti files for each subject. The files are motion corrected using mcflirt, and are aligned to the 0th slice of the timeseries using affine transformations. See [mcflirt](http://fsl.fmrib.ox.ac.uk/fsl/fslwiki/MCFLIRT) for details."
   ]
  },
  {
   "cell_type": "markdown",
   "metadata": {},
   "source": [
    "## Preproc fMRI\n",
    "\n",
    "    +-- /preproc_fmri/\n",
    "    |    +---------- subject1_preproc_corrected.nii.gz\n",
    "    |    +---------- subject2_preproc_corrected.nii.gz\n",
    "    ...\n",
    "    \n",
    "Here, we store the fully preprocessed fMRI file. for now, the only preprocessing we do is motion correction, but future extensions might build upon this. "
   ]
  },
  {
   "cell_type": "markdown",
   "metadata": {},
   "source": [
    "## Registered Structural\n",
    "\n",
    "    +-- /reg_struct/\n",
    "    |    +---------- subject1_anat_registered.nii.gz\n",
    "    |    +---------- subject2_anat_registered.nii.gz\n",
    "    ...\n",
    "Here, we store the registered structural image. This image is the result of a combination of approximate affine transformations perfected with nonlinear transformations, using [FNIRT](http://fsl.fmrib.ox.ac.uk/fsl/fslwiki/FNIRT)."
   ]
  },
  {
   "cell_type": "markdown",
   "metadata": {},
   "source": [
    "## Registered fMRI\n",
    "\n",
    "    +-- /reg_fmri/\n",
    "    |    +---------- subject1_fmri_registered.nii.gz\n",
    "    |    +---------- subject2_fmri_registered.nii.gz\n",
    "    ...\n",
    "This directory is the functional analogue for the registered structural image, except here we have applied the nonlinear transformation over the entire 4d volume stack."
   ]
  },
  {
   "cell_type": "markdown",
   "metadata": {},
   "source": [
    "## Nuisance fMRI\n",
    "\n",
    "    +-- /nuis_fmri/\n",
    "    |    +---------- subject1_nuis_corrected.nii.gz\n",
    "    |    +---------- subject2_nuis_corrected.nii.gz\n",
    "    ...\n",
    "    \n",
    " Here, we nuisance correct the fMRI. For now, nuisance correction is just a bandpass filter, using [fslutils](http://fsl.fmrib.ox.ac.uk/fsl/fslwiki/Fslutils), particuarly a utility called \"fslmaths\", which filters frequencies below a cutoff threshold."
   ]
  },
  {
   "cell_type": "markdown",
   "metadata": {},
   "source": [
    "## Voxel Timeseries fMRI\n",
    "\n",
    "    +-- /voxel_timeseries/\n",
    "    |    +---------- subject1_voxel_timeseries.npz\n",
    "    |    +---------- subject2_voxel_timeseries.npz\n",
    "    ...\n",
    "Here, we extract timeseries over a particular atlas mask. The atlas mask used corresponds to the same atlas that we register to above, as our fMRI must be in the same space as the atlas mask we are extracting to."
   ]
  },
  {
   "cell_type": "markdown",
   "metadata": {},
   "source": [
    "## ROI Timeseries fMRI\n",
    "\n",
    "    +-- /roi_timeseries/\n",
    "    |    +-------------/label1/\n",
    "    |                  +------subject1_roi_timeseries.npz\n",
    "    |                  +------subject2_roi_timeseries.npz\n",
    "    |    +-------------/label2/\n",
    "    |                  +------subject1_roi_timeseries.npz\n",
    "    |                  +------subject2_roi_timeseries.npz\n",
    "    ...\n",
    "    \n",
    "Here, we construct a new directory for each label that is possible, and place a single roi timeseries for each subject in the corresponding directory."
   ]
  },
  {
   "cell_type": "markdown",
   "metadata": {},
   "source": [
    "## fMRI Correlation Graphs\n",
    "\n",
    "    +-- /graphs/\n",
    "    |    +-----/label1/\n",
    "    |          +------subject1_graphs.gpickle\n",
    "    |          +------subject2_graphs.gpickle\n",
    "    |    +-----/label2/\n",
    "    |          +------subject1_graphs.gpickle\n",
    "    |          +------subject2_graphs.gpickle\n",
    "    ...\n",
    "    \n",
    "Many users will want only a correlation matrix for each subject. To make it easier on these users, we add a correlation module on the end of our pipeline. "
   ]
  }
 ],
 "metadata": {
  "kernelspec": {
   "display_name": "Python [Root]",
   "language": "python",
   "name": "Python [Root]"
  },
  "language_info": {
   "codemirror_mode": {
    "name": "ipython",
    "version": 2
   },
   "file_extension": ".py",
   "mimetype": "text/x-python",
   "name": "python",
   "nbconvert_exporter": "python",
   "pygments_lexer": "ipython2",
   "version": "2.7.12"
  }
 },
 "nbformat": 4,
 "nbformat_minor": 0
}
