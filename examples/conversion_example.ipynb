{
 "cells": [
  {
   "cell_type": "markdown",
   "metadata": {},
   "source": [
    "# Converting your Outputs\n",
    "\n",
    "For many users, the standard npz of numpy may not be desirable. For these users (including myself), we have included a few conversion utilities that will allow you to easily convert your timeseries to csv or rds format, which should allow more flexible use with a wide variety of potential languages. \n",
    "\n",
    "## Using the Conversion Utility\n",
    "\n",
    "converting your timeseries is incredibly easy. Begin by navigating to the /ndmg repo base directory, and then into the analysis/conversion_utils folder. \n",
    "\n",
    "### NPZ to CSV\n",
    "\n",
    "To convert from npz to csv, simply call:"
   ]
  },
  {
   "cell_type": "code",
   "execution_count": null,
   "metadata": {
    "collapsed": true
   },
   "outputs": [],
   "source": [
    "%%bash\n",
    "./npz2csv.sh /path/to/your/npz/file /path/to/desired/csv/file"
   ]
  },
  {
   "cell_type": "markdown",
   "metadata": {},
   "source": [
    "All of your existing npz files will have an equivalent csv file (space delimited, which is numpy default) placed in the directory with the npz file, and of the same exact name. \n",
    "\n",
    "### CSV to RDS\n",
    "\n",
    "To go further, some users might want rds files, which are used for the R programming language in particular. To convert from csv to rds, simply call:"
   ]
  },
  {
   "cell_type": "code",
   "execution_count": null,
   "metadata": {
    "collapsed": false
   },
   "outputs": [],
   "source": [
    "%%bash\n",
    "./csv2rds.R /path/to/your/csv/file /path/to/desired/rds/file"
   ]
  },
  {
   "cell_type": "markdown",
   "metadata": {},
   "source": [
    "## NPZ to CSV to RDS for all of dataset\n",
    "\n",
    "Also, we have included a utility to do the entire conversion in one sweep. Simply call:"
   ]
  },
  {
   "cell_type": "code",
   "execution_count": null,
   "metadata": {
    "collapsed": true
   },
   "outputs": [],
   "source": [
    "%%bash\n",
    "./npz2rds.sh /path/to/npz/files /path/"
   ]
  }
 ],
 "metadata": {
  "kernelspec": {
   "display_name": "Python [Root]",
   "language": "python",
   "name": "Python [Root]"
  },
  "language_info": {
   "codemirror_mode": {
    "name": "ipython",
    "version": 2
   },
   "file_extension": ".py",
   "mimetype": "text/x-python",
   "name": "python",
   "nbconvert_exporter": "python",
   "pygments_lexer": "ipython2",
   "version": "2.7.12"
  }
 },
 "nbformat": 4,
 "nbformat_minor": 0
}
