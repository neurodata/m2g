{
 "cells": [
  {
   "cell_type": "markdown",
   "metadata": {},
   "source": [
    "# FNGS Tutorial\n",
    "To start, let's take a look inside the fngs_pipeline() module, which computes derivatives on a single subject's fMRI graphs. Like the ndmg-dti pipeline, the FNGS pipeline makes use of internally exposed modules that can easily be combined differently to vary preprocessing technique.\n",
    "\n",
    "To begin, we import our dependencies:"
   ]
  },
  {
   "cell_type": "code",
   "execution_count": 1,
   "metadata": {
    "collapsed": true
   },
   "outputs": [],
   "source": [
    "from argparse import ArgumentParser\n",
    "from datetime import datetime\n",
    "from subprocess import Popen, PIPE\n",
    "import os.path as op\n",
    "from ndmg.utils import utils as mgu \n",
    "from ndmg.register import register as mgr \n",
    "from ndmg import graph as mgg \n",
    "import numpy as np\n",
    "import nibabel as nb\n",
    "from ndmg.timeseries import timeseries as mgts\n",
    "from ndmg.stats import fmri_qc as mgqc\n",
    "from ndmg.preproc import preproc_fmri as mgp \n",
    "from ndmg.nuis import nuis as mgn"
   ]
  },
  {
   "cell_type": "markdown",
   "metadata": {},
   "source": [
    "The local variables we must set for the fngs pipeline are as follows:"
   ]
  },
  {
   "cell_type": "code",
   "execution_count": 2,
   "metadata": {
    "collapsed": true
   },
   "outputs": [],
   "source": [
    "fmri = '../tests/data/KKI2009_113_1_fMRI_s4.nii.gz'\n",
    "struct = '../tests/data/KKI2009_113_1_MPRAGE_s4.nii'\n",
    "atlas = '../tests/data/MNI152_T1_1mm_s4.nii.gz'\n",
    "atlas_brain = '../tests/data/MNI152_T1_1mm_brain_s4.nii.gz'\n",
    "mask = '../tests/data/MNI152_T1_1mm_brain_mask_s4.nii.gz'\n",
    "labels = ['../tests/data/desikan_s4.nii.gz']\n",
    "outdir = '../tests/data/outputs'\n",
    "\n",
    "fmt = 'graphml'"
   ]
  },
  {
   "cell_type": "markdown",
   "metadata": {},
   "source": [
    "First, we prepare our file names as follows:"
   ]
  },
  {
   "cell_type": "code",
   "execution_count": 3,
   "metadata": {
    "collapsed": false
   },
   "outputs": [
    {
     "name": "stdout",
     "output_type": "stream",
     "text": [
      "Executing: mkdir -p ../tests/data/outputs/reg_fmri ../tests/data/outputs/preproc_fmri ../tests/data/outputs/motion_fmri ../tests/data/outputs/voxel_timeseries ../tests/data/outputs/roi_timeseries ../tests/data/outputs/reg_struct ../tests/data/outputs/tmp ../tests/data/outputs/graphs ../tests/data/outputs/nuis_fmri ../tests/data/outputs/qc ../tests/data/outputs/qc/mc/KKI2009_113_1_fMRI_s4 ../tests/data/outputs/qc/reg/KKI2009_113_1_fMRI_s4 ../tests/data/outputs/qc/overall/KKI2009_113_1_fMRI_s4 ../tests/data/outputs/qc/roi/KKI2009_113_1_fMRI_s4\n",
      "ROI timecourse downsampled to given labels: ../tests/data/outputs/roi_timeseries/desikan_s4/KKI2009_113_1_fMRI_s4_desikan_s4.npz\n"
     ]
    }
   ],
   "source": [
    "fmri_name = op.splitext(op.splitext(op.basename(fmri))[0])[0]\n",
    "struct_name = op.splitext(op.splitext(op.basename(struct))[0])[0]\n",
    "atlas_name = op.splitext(op.splitext(op.basename(atlas))[0])[0]\n",
    "\n",
    "qcdir = outdir + \"/qc\"\n",
    "mcdir = qcdir + \"/mc/\" + fmri_name\n",
    "regdir = qcdir + \"/reg/\" + fmri_name\n",
    "overalldir = qcdir + \"/overall/\" + fmri_name\n",
    "roidir = qcdir + \"/roi/\" + fmri_name\n",
    "\n",
    "cmd = \"mkdir -p \" + outdir + \"/reg_fmri \" + outdir +\\\n",
    "    \"/preproc_fmri \" + outdir + \"/motion_fmri \" + outdir +\\\n",
    "    \"/voxel_timeseries \" + outdir + \"/roi_timeseries \" +\\\n",
    "    outdir + \"/reg_struct \" + outdir + \"/tmp \" +\\\n",
    "    outdir + \"/graphs \" + outdir + \"/nuis_fmri \" + qcdir + \" \" +\\\n",
    "    mcdir + \" \" + regdir + \" \" + overalldir + \" \" + roidir\n",
    "mgu().execute_cmd(cmd)\n",
    "\n",
    "# Graphs are different because of multiple atlases\n",
    "if isinstance(labels, list):\n",
    "    label_name = [op.splitext(op.splitext(op.basename(x))[0])[0]\n",
    "                  for x in labels]\n",
    "    for label in label_name:\n",
    "        p = Popen(\"mkdir -p \" + outdir + \"/roi_timeseries/\" + label,\n",
    "                  stdout=PIPE, stderr=PIPE, shell=True)\n",
    "        p = Popen(\"mkdir -p \" + outdir + \"/graphs/\" + label,\n",
    "                  stdout=PIPE, stderr=PIPE, shell=True)\n",
    "else:\n",
    "    label_name = op.splitext(op.splitext(op.basename(labels))[0])[0]\n",
    "    p = Popen(\"mkdir -p \" + outdir + \"/roi_timeseries/\" + label_name,\n",
    "              stdout=PIPE, stderr=PIPE, shell=True)\n",
    "    p = Popen(\"mkdir -p \" + outdir + \"/graphs/\" + label_name,\n",
    "              stdout=PIPE, stderr=PIPE, shell=True)\n",
    "        \n",
    "# Create derivative output file names\n",
    "preproc_fmri = outdir + \"/preproc_fmri/\" + fmri_name + \"_preproc.nii.gz\"\n",
    "aligned_fmri = outdir + \"/reg_fmri/\" + fmri_name + \"_aligned.nii.gz\"\n",
    "aligned_struct = outdir + \"/reg_struct/\" + fmri_name +\\\n",
    "    \"_anat_aligned.nii.gz\"\n",
    "motion_fmri = outdir + \"/motion_fmri/\" + fmri_name + \"_mc.nii.gz\"\n",
    "nuis_fmri = outdir + \"/nuis_fmri/\" + fmri_name + \"_nuis.nii.gz\"\n",
    "voxel_ts = outdir + \"/voxel_timeseries/\" + fmri_name + \"_voxel.npz\"\n",
    "   \n",
    "# Again, graphs are different\n",
    "graphs = [outdir + \"/graphs/\" + x + '/' + fmri_name + \"_\" + x + '.' + fmt\n",
    "            for x in label_name]\n",
    "roi_ts = [outdir + \"/roi_timeseries/\" + x + '/' + fmri_name + \"_\" + x +\n",
    "            \".npz\" for x in label_name]\n",
    "print \"ROI timecourse downsampled to given labels: \" +\\\n",
    "    (\", \".join([x for x in roi_ts]))"
   ]
  },
  {
   "cell_type": "markdown",
   "metadata": {},
   "source": [
    "Now that we have set all of our variable names, we are ready to get into some fMRI processing.\n",
    "\n",
    "## Preprocessing\n",
    "To begin, we need to preprocess our inputs. Preprocessing consists of removing intuitive subject-specific artifacts present in our images. We perform motion correction to remove subject scanner motion (that is, the movement of the subject's head in the scanner). This is accomplished with an affine alignment algorithm, mcflirt, whereby we assume that our subject's head dimensions are fixed but may not necessarily align in time due to rotational and translational motion in the x, y, and z axis (6 parameter model). In this way, we have translated each 3D image in our 4D stack to align in a subject-specific brainspace, or the qualitative shape of the brain."
   ]
  },
  {
   "cell_type": "code",
   "execution_count": 4,
   "metadata": {
    "collapsed": false
   },
   "outputs": [
    {
     "name": "stdout",
     "output_type": "stream",
     "text": [
      "Preprocessing volumes...\n",
      "Executing: mcflirt -in ../tests/data/KKI2009_113_1_fMRI_s4.nii.gz -out ../tests/data/outputs/motion_fmri/KKI2009_113_1_fMRI_s4_mc.nii.gz -plots -refvol 0\n",
      "Performing Quality Control for Motion Correction...\n",
      "\tBefore Motion Correction: ../tests/data/KKI2009_113_1_fMRI_s4.nii.gz\n",
      "\tAfter Motion Correction: ../tests/data/outputs/motion_fmri/KKI2009_113_1_fMRI_s4_mc.nii.gz\n",
      "\tReference Motion Correction: ../tests/data/outputs/tmp/KKI2009_113_1_fMRI_s4_0slice.nii.gz\n",
      "Executing: mkdir -p ../tests/data/outputs/qc/mc/KKI2009_113_1_fMRI_s4\n"
     ]
    },
    {
     "name": "stderr",
     "output_type": "stream",
     "text": [
      "/home/eric/anaconda2/lib/python2.7/site-packages/ndmg-0.0.31-py2.7.egg/ndmg/stats/fmri_qc.py:285: VisibleDeprecationWarning: using a non-integer number instead of an integer will result in an error in the future\n",
      "/home/eric/anaconda2/lib/python2.7/site-packages/ndmg-0.0.31-py2.7.egg/ndmg/stats/fmri_qc.py:288: VisibleDeprecationWarning: using a non-integer number instead of an integer will result in an error in the future\n"
     ]
    },
    {
     "name": "stdout",
     "output_type": "stream",
     "text": [
      "Executing: cp ../tests/data/outputs/motion_fmri/KKI2009_113_1_fMRI_s4_mc.nii.gz ../tests/data/outputs/preproc_fmri/KKI2009_113_1_fMRI_s4_preproc.nii.gz\n"
     ]
    }
   ],
   "source": [
    "print \"Preprocessing volumes...\"\n",
    "mgp().preprocess(fmri, preproc_fmri, motion_fmri, outdir, qcdir=mcdir)"
   ]
  },
  {
   "cell_type": "markdown",
   "metadata": {},
   "source": [
    "## Alignment\n",
    "Now that we have preprocessed our graphs and our confident our entire image is aligned relative the subject-specific brainspace, we are ready to align our images to a more generalized brain space. When making inferences from an fMRI scan, it is nearly impossible to conduct sizable analyses manually. For this reason, researchers will use alignment to adjust voxels as necessary in a subject-specific brain space to match that of a template brain. A template brain is a scan that is usually some sort of approximation of the \"average\" brain of the subjects in the particular study that a template is derived from. We will use non-linear registration here, which means that we will have scaling approximated for each voxel in the image based on anatomical features present in the image (not simply warping x, y, or z direction linearly, contrary to some processing pipelines). "
   ]
  },
  {
   "cell_type": "code",
   "execution_count": 5,
   "metadata": {
    "collapsed": false
   },
   "outputs": [
    {
     "name": "stdout",
     "output_type": "stream",
     "text": [
      "Aligning Volumes...\n",
      "Executing: bet ../tests/data/KKI2009_113_1_MPRAGE_s4.nii ../tests/data/outputs/tmp/KKI2009_113_1_fMRI_s4_preproc_anat_brain.nii.gz \n",
      "Executing: bet ../tests/data/outputs/tmp/KKI2009_113_1_fMRI_s4_preproc_0slice.nii.gz ../tests/data/outputs/tmp/KKI2009_113_1_fMRI_s4_preproc_0slice_brain.nii.gz \n",
      "Executing: flirt -in ../tests/data/outputs/tmp/KKI2009_113_1_fMRI_s4_preproc_0slice_brain.nii.gz -ref ../tests/data/outputs/tmp/KKI2009_113_1_fMRI_s4_preproc_anat_brain.nii.gz -interp trilinear -omat ../tests/data/outputs/tmp/KKI2009_113_1_fMRI_s4_preproc_xfm_func2mpr.mat -dof 12 -searchrx -180 180 -searchry -180 180 -searchrz -180 180\n",
      "Executing: flirt -in ../tests/data/outputs/tmp/KKI2009_113_1_fMRI_s4_preproc_anat_brain.nii.gz -ref ../tests/data/MNI152_T1_1mm_brain_s4.nii.gz -interp trilinear -omat ../tests/data/outputs/tmp/KKI2009_113_1_fMRI_s4_preproc_xfm_mpr2temp.mat -dof 12 -searchrx -180 180 -searchry -180 180 -searchrz -180 180\n",
      "Executing: fnirt --in=../tests/data/KKI2009_113_1_MPRAGE_s4.nii --aff=../tests/data/outputs/tmp/KKI2009_113_1_fMRI_s4_preproc_xfm_mpr2temp.mat --cout=../tests/data/outputs/tmp/KKI2009_113_1_fMRI_s4_preproc_warp_mpr2temp.nii.gz --ref=../tests/data/MNI152_T1_1mm_s4.nii.gz --subsamp=4,2,1,1 --refmask=../tests/data/MNI152_T1_1mm_brain_mask_s4.nii.gz\n",
      "Executing: applywarp --ref=../tests/data/MNI152_T1_1mm_s4.nii.gz --in=../tests/data/outputs/preproc_fmri/KKI2009_113_1_fMRI_s4_preproc.nii.gz --out=../tests/data/outputs/reg_fmri/KKI2009_113_1_fMRI_s4_aligned.nii.gz --warp=../tests/data/outputs/tmp/KKI2009_113_1_fMRI_s4_preproc_warp_mpr2temp.nii.gz --premat=../tests/data/outputs/tmp/KKI2009_113_1_fMRI_s4_preproc_xfm_func2mpr.mat\n",
      "Executing: applywarp --ref=../tests/data/MNI152_T1_1mm_s4.nii.gz --in=../tests/data/KKI2009_113_1_MPRAGE_s4.nii --out=../tests/data/outputs/reg_struct/KKI2009_113_1_fMRI_s4_anat_aligned.nii.gz --warp=../tests/data/outputs/tmp/KKI2009_113_1_fMRI_s4_preproc_warp_mpr2temp.nii.gz --mask=../tests/data/MNI152_T1_1mm_brain_mask_s4.nii.gz\n",
      "Performing Quality Control for Registration...\n",
      "\tBefore Registration: ../tests/data/outputs/preproc_fmri/KKI2009_113_1_fMRI_s4_preproc.nii.gz\n",
      "\tAfter Registration: ../tests/data/outputs/reg_fmri/KKI2009_113_1_fMRI_s4_aligned.nii.gz\n",
      "\tReference Registration: ../tests/data/MNI152_T1_1mm_s4.nii.gz\n",
      "Executing: mkdir -p ../tests/data/outputs/qc/reg/KKI2009_113_1_fMRI_s4\n"
     ]
    }
   ],
   "source": [
    "print \"Aligning Volumes...\"\n",
    "mgr().fmri2atlas(preproc_fmri, struct, atlas, atlas_brain, mask,\n",
    "                 aligned_fmri, aligned_struct, outdir, qcdir=regdir)"
   ]
  },
  {
   "cell_type": "markdown",
   "metadata": {},
   "source": [
    "## Nuisance Correction\n",
    "After alignment to a template image, we will regress out some other subject-specific artifacts that may be present, but are more convenient for a variety of reasons to leave in until now. So far, we have only included high pass filtering to our nuisance pipeline, where we filter out any frequencies lower than .01 Hz. Relevant brain signals are not generally at this low frequency, so simply removing them can reduce a lot of scanner-specific noise present in our data."
   ]
  },
  {
   "cell_type": "code",
   "execution_count": 6,
   "metadata": {
    "collapsed": false
   },
   "outputs": [
    {
     "name": "stdout",
     "output_type": "stream",
     "text": [
      "Executing: fslmaths ../tests/data/outputs/reg_fmri/KKI2009_113_1_fMRI_s4_aligned.nii.gz -bptf 50.0 -1 ../tests/data/outputs/nuis_fmri/KKI2009_113_1_fMRI_s4_nuis.nii.gz\n"
     ]
    }
   ],
   "source": [
    "mgn().nuis_correct(aligned_fmri, nuis_fmri)"
   ]
  },
  {
   "cell_type": "markdown",
   "metadata": {},
   "source": [
    "## Timeseries Extraction\n",
    "Most researchers will be concerned with either a voxel or ROI timeseries. Voxel timeseries is simply extracting the timeseries for voxels that are specified in an atlas to be brain voxels. This \"mask\" that tells us whether a voxel is brain or not must be derived from the same study as the atlas and atlas_brain we use previously, or we run the risk of losing brain voxels/including out-of-brain voxels depending on how the mask aligns with our brains (note that our brains are in a specific atlas brain space, so masking with a different brain space would remove a different \"shape\" from our images). Likewise, roi timeseries involves extracting voxel intensities, except for a significant difference: while in voxel timeseries we extract a timeseries for each voxel, in the ROI timeseries we average the intensity over time of voxels that are specified to be part of a particular region in a label file. This label file must be of the same space as the atlas as well, or we would run the risk of mischaracterizing brain regions in downstream analyses.\n",
    "\n",
    "For each roi timeseries, we also provide a correlation matrix derivative. This derivative corresponds to the correlation between the timeseries of each roi in our labelled atlas."
   ]
  },
  {
   "cell_type": "code",
   "execution_count": 9,
   "metadata": {
    "collapsed": false
   },
   "outputs": [
    {
     "name": "stdout",
     "output_type": "stream",
     "text": [
      "Extracting Voxel Timeseries for ../tests/data/outputs/nuis_fmri/KKI2009_113_1_fMRI_s4_nuis.nii.gz...\n",
      "Extracting roi timeseries for desikan_s4 parcellation...\n",
      "Executing: mkdir -p ../tests/data/outputs/qc/roi/KKI2009_113_1_fMRI_s4\n",
      "Executing: mkdir -p ../tests/data/outputs/qc/roi/KKI2009_113_1_fMRI_s4\n",
      "{'ecount': 0, 'vcount': 70, 'region': 'brain', 'source': 'http://m2g.io', 'version': '0.0.31', 'date': 'Sun Sep 18 23:28:09 2016', 'sensor': 'Functional MRI', 'name': \"Generated by NeuroData's MRI Graphs (ndmg)\"}\n",
      "Estimating correlation matrix for 70 roi graph...\n",
      "\n",
      " Graph Summary:\n",
      "Name: Generated by NeuroData's MRI Graphs (ndmg)\n",
      "Type: Graph\n",
      "Number of nodes: 70\n",
      "Number of edges: 2485\n",
      "Average degree:  71.0000\n"
     ]
    }
   ],
   "source": [
    "voxel = mgts().voxel_timeseries(nuis_fmri, mask, voxel_ts)\n",
    "\n",
    "for idx, label in enumerate(label_name):\n",
    "    print \"Extracting roi timeseries for \" + label + \" parcellation...\"\n",
    "    try:\n",
    "        ts = mgts().roi_timeseries(nuis_fmri, labels[idx], roi_ts[idx],\n",
    "                               qcdir=roidir,\n",
    "                               scanid=fmri_name, refid=label)\n",
    "        mgqc().image_align(atlas_brain, labels[idx], roidir, scanid=atlas_name,\n",
    "                           refid=label)\n",
    "    except OSError as err:\n",
    "        print(err)\n",
    "    graph = mgg(ts.shape[0], labels[idx], sens=\"Functional\")\n",
    "    graph.cor_graph(ts)\n",
    "    graph.summary()\n",
    "    \n",
    "    graph.save_graph(graphs[idx], fmt=fmt)"
   ]
  },
  {
   "cell_type": "markdown",
   "metadata": {},
   "source": [
    "## Statistical Summary\n",
    "Finally, we will consider a stistical summary of our derivatives. Here, we will constsruct relevant plots, including voxelwise means over time, voxelwise standard deviations over time, and voxelwise signal-to-noise ratio over time, which will give us a sense of the quality of our fMRI data. Additionally, we will visualize the artifacts that have been corrected along the way, such as showing various alignments before and after operations have taken place, motion parameters used for subject brain space alignment, etc."
   ]
  },
  {
   "cell_type": "code",
   "execution_count": 11,
   "metadata": {
    "collapsed": false
   },
   "outputs": [
    {
     "name": "stdout",
     "output_type": "stream",
     "text": [
      "Producing Quality Control Summary. \n",
      "\tRaw Image: ../tests/data/KKI2009_113_1_fMRI_s4.nii.gz\n",
      "\tCorrected Image: ../tests/data/outputs/nuis_fmri/KKI2009_113_1_fMRI_s4_nuis.nii.gz\n",
      " \tMask: ../tests/data/MNI152_T1_1mm_brain_mask_s4.nii.gz\n",
      "\n",
      "Executing: mkdir -p ../tests/data/outputs/qc/overall/KKI2009_113_1_fMRI_s4\n",
      "Opened MRI Images.\n"
     ]
    },
    {
     "name": "stderr",
     "output_type": "stream",
     "text": [
      "/home/eric/anaconda2/lib/python2.7/site-packages/matplotlib/pyplot.py:516: RuntimeWarning: More than 20 figures have been opened. Figures created through the pyplot interface (`matplotlib.pyplot.figure`) are retained until explicitly closed and may consume too much memory. (To control this warning, see the rcParam `figure.max_open_warning`).\n",
      "  max_open_warning, RuntimeWarning)\n"
     ]
    }
   ],
   "source": [
    "mgqc().stat_summary(nuis_fmri, fmri, motion_fmri, mask, voxel,\n",
    "                    aligned_struct, atlas_brain,\n",
    "                    qcdir=overalldir, scanid=fmri_name)"
   ]
  },
  {
   "cell_type": "code",
   "execution_count": 25,
   "metadata": {
    "collapsed": false
   },
   "outputs": [
    {
     "data": {
      "image/png": "[encoded data removed]",
      "text/plain": [
       "<matplotlib.figure.Figure at 0x7fe9a349ff10>"
      ]
     },
     "metadata": {},
     "output_type": "display_data"
    }
   ],
   "source": [
    "%matplotlib inline\n",
    "import matplotlib.pylab as plt\n",
    "\n",
    "fig = plt.figure()\n",
    "ax = fig.add_subplot(1,1,1)\n",
    "ax.set_aspect('equal')\n",
    "G1 = np.corrcoef(ts)\n",
    "\n",
    "plt.imshow(G1, interpolation='nearest', cmap=plt.cm.ocean)\n",
    "plt.colorbar()\n",
    "ax.set_xlabel('ROI')\n",
    "ax.set_ylabel('ROI')\n",
    "plt.show()"
   ]
  },
  {
   "cell_type": "code",
   "execution_count": null,
   "metadata": {
    "collapsed": true
   },
   "outputs": [],
   "source": []
  }
 ],
 "metadata": {
  "kernelspec": {
   "display_name": "Python [Root]",
   "language": "python",
   "name": "Python [Root]"
  },
  "language_info": {
   "codemirror_mode": {
    "name": "ipython",
    "version": 2
   },
   "file_extension": ".py",
   "mimetype": "text/x-python",
   "name": "python",
   "nbconvert_exporter": "python",
   "pygments_lexer": "ipython2",
   "version": "2.7.12"
  }
 },
 "nbformat": 4,
 "nbformat_minor": 0
}
